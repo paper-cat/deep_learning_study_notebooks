{
 "cells": [
  {
   "cell_type": "markdown",
   "metadata": {
    "ExecuteTime": {
     "end_time": "2020-02-27T06:41:22.973467Z",
     "start_time": "2020-02-27T06:41:22.970507Z"
    }
   },
   "source": [
    "Copyright 2019 The TensorFlow Authors."
   ]
  },
  {
   "cell_type": "markdown",
   "metadata": {
    "ExecuteTime": {
     "end_time": "2020-02-27T06:41:33.984633Z",
     "start_time": "2020-02-27T06:41:33.982577Z"
    }
   },
   "source": [
    "# Neural machine translation with attention"
   ]
  },
  {
   "cell_type": "markdown",
   "metadata": {},
   "source": [
    "구글에서 제공하는 seq2seq + attention 모델 튜토리얼 입니다.\n",
    "\n",
    "99 퍼센트의 코드는 그대로 가져왔습니다.\n",
    "\n",
    "어텐션 관한 설명은 https://wikidocs.net/22893 와 논문들을 참고했습니다\n",
    "\n",
    "이 모델을 사용하여, Spanish 를 English 로 번역하는 모델을 생성하게 됩니다."
   ]
  },
  {
   "cell_type": "markdown",
   "metadata": {},
   "source": [
    "## 사전 준비"
   ]
  },
  {
   "cell_type": "markdown",
   "metadata": {},
   "source": [
    "### 필요 패키지 import"
   ]
  },
  {
   "cell_type": "code",
   "execution_count": 1,
   "metadata": {
    "ExecuteTime": {
     "end_time": "2020-02-28T04:25:42.998796Z",
     "start_time": "2020-02-28T04:25:39.985762Z"
    }
   },
   "outputs": [],
   "source": [
    "from __future__ import absolute_import, division, print_function, unicode_literals\n",
    "\n",
    "import tensorflow as tf\n",
    "\n",
    "import matplotlib.pyplot as plt\n",
    "import matplotlib.ticker as ticker\n",
    "from sklearn.model_selection import train_test_split\n",
    "\n",
    "import unicodedata\n",
    "import re\n",
    "import numpy as np\n",
    "import os\n",
    "import io\n",
    "import time"
   ]
  },
  {
   "cell_type": "code",
   "execution_count": 2,
   "metadata": {
    "ExecuteTime": {
     "end_time": "2020-02-28T04:25:43.140235Z",
     "start_time": "2020-02-28T04:25:42.999804Z"
    }
   },
   "outputs": [],
   "source": [
    "# GPU load 문제가 생길때\n",
    "physical_devices = tf.config.list_physical_devices('GPU')\n",
    "tf.config.experimental.set_memory_growth(physical_devices[0], enable=True)"
   ]
  },
  {
   "cell_type": "markdown",
   "metadata": {},
   "source": [
    "### Dataset Download"
   ]
  },
  {
   "cell_type": "markdown",
   "metadata": {},
   "source": [
    "http://www.manythings.org/anki/ 에서 제공하는 데이터셋을 사용합니다\n",
    "\n",
    "tf.keras.utils 의 기본 dataset directory 에 저장됩니다"
   ]
  },
  {
   "cell_type": "code",
   "execution_count": 3,
   "metadata": {
    "ExecuteTime": {
     "end_time": "2020-02-28T04:25:43.198562Z",
     "start_time": "2020-02-28T04:25:43.142236Z"
    },
    "hide_input": false
   },
   "outputs": [],
   "source": [
    "# Download the file\n",
    "path_to_zip = tf.keras.utils.get_file(\n",
    "    'spa-eng.zip', origin='http://storage.googleapis.com/download.tensorflow.org/data/spa-eng.zip',\n",
    "    extract=True)\n",
    "\n",
    "path_to_file = os.path.dirname(path_to_zip)+\"/spa-eng/spa.txt\""
   ]
  },
  {
   "cell_type": "markdown",
   "metadata": {},
   "source": [
    "### Cleansing Dataset\n",
    "\n",
    " w = w.rstrip().strip()\n",
    "- 공백 제거시에 왜 오른쪽 공백 제거후 양쪽 공백 제거를 하는지 모르겠음.\n",
    "- 그냥 모두 처리후에 공백 2칸 이상인 부분 제거를 하면 될듯."
   ]
  },
  {
   "cell_type": "code",
   "execution_count": 4,
   "metadata": {
    "ExecuteTime": {
     "end_time": "2020-02-28T04:25:43.205279Z",
     "start_time": "2020-02-28T04:25:43.200278Z"
    }
   },
   "outputs": [],
   "source": [
    "# Converts the unicode file to ascii\n",
    "# Unicode 파일을 ascii 로 변환\n",
    "\n",
    "def unicode_to_ascii(s):\n",
    "      return ''.join(c for c in unicodedata.normalize('NFD', s)\n",
    "          if unicodedata.category(c) != 'Mn')\n",
    "\n",
    "\n",
    "def preprocess_sentence(w):\n",
    "    w = unicode_to_ascii(w.lower().strip())\n",
    "\n",
    "    # 단어와 마침표 사이에 white space 를 추가합니다\n",
    "    # eg: \"he is a boy.\" => \"he is a boy .\"\n",
    "    \n",
    "    # 해당 특수문자 앞뒤에 space 추가합니다.\n",
    "    w = re.sub(r\"([?.!,¿])\", r\" \\1 \", w)\n",
    "    \n",
    "    # 빈칸이 2칸 이상인 경우를 전부 한칸으로 바꿉니다.\n",
    "    w = re.sub(r'[\" \"]+', \" \", w)\n",
    "\n",
    "    # replacing everything with space except (a-z, A-Z, \".\", \"?\", \"!\", \",\")\n",
    "    # 알파벳과 주로 쓰이는 특수문자 외의 것들은 모두 빈칸으로 처리합니다\n",
    "    w = re.sub(r\"[^a-zA-Z?.!,¿]+\", \" \", w)\n",
    "    \n",
    "    #  오른쪽 공백 제거 후 양쪽 공백 제거\n",
    "    w = w.rstrip().strip()\n",
    "\n",
    "    # adding a start and an end token to the sentence\n",
    "    # so that the model know when to start and stop predicting.\n",
    "    \n",
    "    # 모든 문장에 시작과 끝을 알리는 토큰을 추가합니다\n",
    "    # 시작과 끝을 알려주는 토큰이 있어야 모델이 학습시 문장의 시작과 끝을 판단할 수 있습니다.\n",
    "    w = '<start> ' + w + ' <end>'\n",
    "    return w"
   ]
  },
  {
   "cell_type": "markdown",
   "metadata": {},
   "source": [
    "#### Data cleansing test"
   ]
  },
  {
   "cell_type": "code",
   "execution_count": 5,
   "metadata": {
    "ExecuteTime": {
     "end_time": "2020-02-28T04:25:43.213291Z",
     "start_time": "2020-02-28T04:25:43.206294Z"
    }
   },
   "outputs": [
    {
     "name": "stdout",
     "output_type": "stream",
     "text": [
      "<start> may i borrow this book ? <end>\n",
      "<start> ¿ puedo tomar prestado este libro ? <end>\n",
      "b'<start> \\xc2\\xbf puedo tomar prestado este libro ? <end>'\n"
     ]
    }
   ],
   "source": [
    "en_sentence = u\"May I borrow this book?\"\n",
    "sp_sentence = u\"¿Puedo tomar prestado este libro?\"\n",
    "print(preprocess_sentence(en_sentence))\n",
    "print(preprocess_sentence(sp_sentence))\n",
    "print(preprocess_sentence(sp_sentence).encode('utf-8'))"
   ]
  },
  {
   "cell_type": "markdown",
   "metadata": {},
   "source": [
    "### Build Dataset\n",
    "\n",
    "\n",
    "Google API 에서 받아온 데이터를 모델에 넣기 용이한 데이터셋으로 변환하는 작업.\n",
    "\n",
    "데이터셋의 구조에 따라 달라서 넘어가도 될듯"
   ]
  },
  {
   "cell_type": "code",
   "execution_count": 6,
   "metadata": {
    "ExecuteTime": {
     "end_time": "2020-02-28T04:25:43.220284Z",
     "start_time": "2020-02-28T04:25:43.214272Z"
    }
   },
   "outputs": [],
   "source": [
    "# 1. Remove the accents\n",
    "# 2. Clean the sentences\n",
    "# 3. Return word pairs in the format: [ENGLISH, SPANISH]\n",
    "\n",
    "def create_dataset(path, num_examples):\n",
    "    lines = io.open(path, encoding='UTF-8').read().strip().split('\\n')\n",
    "\n",
    "    word_pairs = [[preprocess_sentence(w) for w in l.split('\\t')]  for l in lines[:num_examples]]\n",
    "    \n",
    "    # zip(*) 를 사용한것은,  word_pairs 를 먼저 unpacking 한 뒤에 zip 을 해야하기 때문에\n",
    "    return zip(*word_pairs)"
   ]
  },
  {
   "cell_type": "code",
   "execution_count": 7,
   "metadata": {
    "ExecuteTime": {
     "end_time": "2020-02-28T04:25:47.252236Z",
     "start_time": "2020-02-28T04:25:43.221281Z"
    }
   },
   "outputs": [],
   "source": [
    "en, sp = create_dataset(path_to_file, None)"
   ]
  },
  {
   "cell_type": "markdown",
   "metadata": {},
   "source": [
    "#### Data Check"
   ]
  },
  {
   "cell_type": "code",
   "execution_count": 8,
   "metadata": {
    "ExecuteTime": {
     "end_time": "2020-02-28T04:25:47.259282Z",
     "start_time": "2020-02-28T04:25:47.254272Z"
    }
   },
   "outputs": [
    {
     "name": "stdout",
     "output_type": "stream",
     "text": [
      "<start> if you want to sound like a native speaker , you must be willing to practice saying the same sentence over and over in the same way that banjo players practice the same phrase over and over until they can play it correctly and at the desired tempo . <end>\n",
      "<start> si quieres sonar como un hablante nativo , debes estar dispuesto a practicar diciendo la misma frase una y otra vez de la misma manera en que un musico de banjo practica el mismo fraseo una y otra vez hasta que lo puedan tocar correctamente y en el tiempo esperado . <end>\n"
     ]
    }
   ],
   "source": [
    "print(en[-1])\n",
    "print(sp[-1])"
   ]
  },
  {
   "cell_type": "markdown",
   "metadata": {},
   "source": [
    "#### Dataset 생성용 함수들"
   ]
  },
  {
   "cell_type": "code",
   "execution_count": 9,
   "metadata": {
    "ExecuteTime": {
     "end_time": "2020-02-28T04:25:47.268235Z",
     "start_time": "2020-02-28T04:25:47.261280Z"
    }
   },
   "outputs": [],
   "source": [
    "def max_length(tensor):\n",
    "    return max(len(t) for t in tensor)"
   ]
  },
  {
   "cell_type": "code",
   "execution_count": 10,
   "metadata": {
    "ExecuteTime": {
     "end_time": "2020-02-28T04:25:47.275300Z",
     "start_time": "2020-02-28T04:25:47.269274Z"
    }
   },
   "outputs": [],
   "source": [
    "def tokenize(lang):\n",
    "    lang_tokenizer = tf.keras.preprocessing.text.Tokenizer(filters='')\n",
    "    lang_tokenizer.fit_on_texts(lang)\n",
    "\n",
    "    tensor = lang_tokenizer.texts_to_sequences(lang)\n",
    "\n",
    "    tensor = tf.keras.preprocessing.sequence.pad_sequences(tensor, padding='post')\n",
    "\n",
    "    return tensor, lang_tokenizer"
   ]
  },
  {
   "cell_type": "code",
   "execution_count": 11,
   "metadata": {
    "ExecuteTime": {
     "end_time": "2020-02-28T04:25:47.281238Z",
     "start_time": "2020-02-28T04:25:47.276270Z"
    }
   },
   "outputs": [],
   "source": [
    "def load_dataset(path, num_examples=None):\n",
    "\n",
    "    targ_lang, inp_lang = create_dataset(path, num_examples)\n",
    "\n",
    "    input_tensor, inp_lang_tokenizer = tokenize(inp_lang)\n",
    "    target_tensor, targ_lang_tokenizer = tokenize(targ_lang)\n",
    "\n",
    "    return input_tensor, target_tensor, inp_lang_tokenizer, targ_lang_tokenizer"
   ]
  },
  {
   "cell_type": "markdown",
   "metadata": {},
   "source": [
    "#### Data 길이 제한 (Optional)\n",
    "\n",
    "학습 속도를 빠르게 하기 위해 데이터 길이를 제한할 수 있음.\n",
    "\n",
    "하지만 모델의 성능이 떨어질 수 있음."
   ]
  },
  {
   "cell_type": "code",
   "execution_count": 12,
   "metadata": {
    "ExecuteTime": {
     "end_time": "2020-02-28T04:25:48.917523Z",
     "start_time": "2020-02-28T04:25:47.283235Z"
    }
   },
   "outputs": [],
   "source": [
    "num_examples = 30000\n",
    "input_tensor, target_tensor, inp_lang, targ_lang = load_dataset(path_to_file, num_examples)\n",
    "\n",
    "max_length_targ, max_length_inp = max_length(target_tensor), max_length(input_tensor)"
   ]
  },
  {
   "cell_type": "code",
   "execution_count": 13,
   "metadata": {
    "ExecuteTime": {
     "end_time": "2020-02-28T04:25:48.928456Z",
     "start_time": "2020-02-28T04:25:48.918443Z"
    }
   },
   "outputs": [
    {
     "name": "stdout",
     "output_type": "stream",
     "text": [
      "24000 24000 6000 6000\n"
     ]
    }
   ],
   "source": [
    "input_tensor_train, input_tensor_val, target_tensor_train, target_tensor_val = train_test_split(input_tensor, target_tensor, test_size=0.2)\n",
    "\n",
    "print(len(input_tensor_train), len(target_tensor_train), len(input_tensor_val), len(target_tensor_val))"
   ]
  },
  {
   "cell_type": "code",
   "execution_count": 14,
   "metadata": {
    "ExecuteTime": {
     "end_time": "2020-02-28T04:25:48.934443Z",
     "start_time": "2020-02-28T04:25:48.930443Z"
    }
   },
   "outputs": [],
   "source": [
    "def convert(lang, tensor):\n",
    "    for t in tensor:\n",
    "        if t!=0:\n",
    "            print (\"%d ----> %s\" % (t, lang.index_word[t]))"
   ]
  },
  {
   "cell_type": "code",
   "execution_count": 15,
   "metadata": {
    "ExecuteTime": {
     "end_time": "2020-02-28T04:25:48.943442Z",
     "start_time": "2020-02-28T04:25:48.936469Z"
    }
   },
   "outputs": [
    {
     "name": "stdout",
     "output_type": "stream",
     "text": [
      "Input Language; index to word mapping\n",
      "1 ----> <start>\n",
      "13 ----> la\n",
      "6382 ----> precipitacion\n",
      "7 ----> es\n",
      "97 ----> poco\n",
      "1535 ----> probable\n",
      "3 ----> .\n",
      "2 ----> <end>\n",
      "\n",
      "Target Language; index to word mapping\n",
      "1 ----> <start>\n",
      "353 ----> rain\n",
      "8 ----> is\n",
      "2169 ----> unlikely\n",
      "3 ----> .\n",
      "2 ----> <end>\n"
     ]
    }
   ],
   "source": [
    "print (\"Input Language; index to word mapping\")\n",
    "convert(inp_lang, input_tensor_train[0])\n",
    "print ()\n",
    "print (\"Target Language; index to word mapping\")\n",
    "convert(targ_lang, target_tensor_train[0])"
   ]
  },
  {
   "cell_type": "markdown",
   "metadata": {},
   "source": [
    "####  tf.data dataset 생성\n",
    "\n",
    "Data Input shape 을 확인하기 위해 example_input_batch 생성해서 확인"
   ]
  },
  {
   "cell_type": "code",
   "execution_count": 16,
   "metadata": {
    "ExecuteTime": {
     "end_time": "2020-02-28T04:25:49.655064Z",
     "start_time": "2020-02-28T04:25:48.944462Z"
    }
   },
   "outputs": [],
   "source": [
    "BUFFER_SIZE = len(input_tensor_train)\n",
    "BATCH_SIZE = 64\n",
    "steps_per_epoch = len(input_tensor_train)//BATCH_SIZE\n",
    "embedding_dim = 256\n",
    "units = 1024\n",
    "vocab_inp_size = len(inp_lang.word_index)+1\n",
    "vocab_tar_size = len(targ_lang.word_index)+1\n",
    "\n",
    "dataset = tf.data.Dataset.from_tensor_slices((input_tensor_train, target_tensor_train)).shuffle(BUFFER_SIZE)\n",
    "dataset = dataset.batch(BATCH_SIZE, drop_remainder=True)"
   ]
  },
  {
   "cell_type": "code",
   "execution_count": 17,
   "metadata": {
    "ExecuteTime": {
     "end_time": "2020-02-28T04:25:49.699143Z",
     "start_time": "2020-02-28T04:25:49.656062Z"
    }
   },
   "outputs": [
    {
     "data": {
      "text/plain": [
       "(TensorShape([64, 16]), TensorShape([64, 11]))"
      ]
     },
     "execution_count": 17,
     "metadata": {},
     "output_type": "execute_result"
    }
   ],
   "source": [
    "example_input_batch, example_target_batch = next(iter(dataset))\n",
    "example_input_batch.shape, example_target_batch.shape"
   ]
  },
  {
   "cell_type": "markdown",
   "metadata": {},
   "source": [
    "## Encoder / Decoder 모델"
   ]
  },
  {
   "cell_type": "markdown",
   "metadata": {},
   "source": [
    "### 기본 설명\n",
    "\n",
    "**Attention**\n",
    "\n",
    "1. 어텐션 스코어\n",
    "\n",
    "어텐션 스코어는, 현재 encoder hidden state 값이 decoder hidden state 값과 얼마나 유사한지 계산하는 값입니다.\n",
    "\n",
    "계산하는 방법에는 여러가지 방법이 있는데 이 튜토리얼 에서는 tanh(concat) 을 사용했습니다.\n",
    "\n",
    "2. 어텐션 분포, 어텐션 가중치\n",
    "\n",
    "어텐션을 계산하여 모은값에 소프트맥스 함수를 사용하여, 총합 1이 되는 각각의 값을 구합니다. 이 값들을 어텐션 가중치 (attention weight) 이라고 합니다.\n",
    "\n",
    "3. 어텐션 값 (value), context vector\n",
    "\n",
    "앞서 계산한 어텐션 분포에 hidden state 값을 곱해 모두 더하여 어텐션 값을 얻습니다. (어텐션 값과 context vector는 같은 의미)\n",
    "\n",
    "4. 어텐션 값과 hidden state 연결\n",
    "\n",
    "어텐션값을 구해 은닉값과 concat 하여 벡터로 만듭니다."
   ]
  },
  {
   "cell_type": "markdown",
   "metadata": {
    "ExecuteTime": {
     "end_time": "2020-02-27T08:01:17.437119Z",
     "start_time": "2020-02-27T08:01:17.432120Z"
    }
   },
   "source": [
    "<img src=\"https://www.tensorflow.org/images/seq2seq/attention_mechanism.jpg\" width=\"500\" alt=\"attention mechanism\">\n",
    "\n",
    "왼쪽의 Encoder 에 들어간 Input:\n",
    "\n",
    "- `(batch_size, max_length, hidden_size)` 의 `encoder output`\n",
    "\n",
    "- `(batch_size, hidden_size)`             의 `encoder hidden state`\n",
    "\n",
    "를 리턴합니다.\n",
    "\n",
    "이 값들로 Attention weight 를 계산하여 Context Vector 를 계산합니다.\n",
    "\n",
    "복잡한 수식은 패스하고, 직관적으로 보겠습니다."
   ]
  },
  {
   "cell_type": "markdown",
   "metadata": {},
   "source": [
    "* FC = Fully connected (dense) layer\n",
    "* EO = Encoder output\n",
    "* H = hidden state\n",
    "* X = input to the decoder\n",
    "\n",
    "And the pseudo-code:\n",
    "\n",
    "* `score = FC(tanh(FC(EO) + FC(H)))` Encoder Output 과 hidden state로 attention score 를 계산합니다\n",
    "\n",
    "\n",
    "* `attention weights = softmax(score, axis = 1)`. 기본적으로 Softmax 는 마지막 axis (-1) 에 적용되지만, 이 예시에서는 첫번째 axis 에 적용합니다. score의 shape 이 *(batch_size, max_length, hidden_size)* 이기 때문입니다. `Max_length` 는 우리가 넣은 input의 길이 입니다. 모든 입력값에 weight 을 적용시키려 하기 때문에, softmax 가 axis 1에 적용됩니다.\n",
    "\n",
    "\n",
    "* `context vector = sum(attention weights * EO, axis = 1)`. 여기도 axis 1에 적용합니다\n",
    "\n",
    "\n",
    "* `embedding output` = Decoder 에 들어가는 입력도 embedding layer 를 통해 들어갑니다.\n",
    "\n",
    "\n",
    "* `merged vector = concat(embedding output, context vector)`\n",
    "\n",
    "\n",
    "* 이 merged vector 가 GRU 에 주어집니다."
   ]
  },
  {
   "cell_type": "markdown",
   "metadata": {},
   "source": [
    "### Encoder Model\n",
    "\n",
    "Embedding layer -> GRU "
   ]
  },
  {
   "cell_type": "code",
   "execution_count": 18,
   "metadata": {
    "ExecuteTime": {
     "end_time": "2020-02-28T04:25:49.706062Z",
     "start_time": "2020-02-28T04:25:49.700105Z"
    }
   },
   "outputs": [],
   "source": [
    "class Encoder(tf.keras.Model):\n",
    "    def __init__(self, vocab_size, embedding_dim, enc_units, batch_sz):\n",
    "        super(Encoder, self).__init__()\n",
    "        self.batch_sz = batch_sz\n",
    "        self.enc_units = enc_units\n",
    "        self.embedding = tf.keras.layers.Embedding(vocab_size, embedding_dim)\n",
    "        self.gru = tf.keras.layers.GRU(self.enc_units,\n",
    "                                       return_sequences=True,\n",
    "                                       return_state=True,\n",
    "                                       recurrent_initializer='glorot_uniform')\n",
    "\n",
    "    def call(self, x, hidden):\n",
    "        x = self.embedding(x)\n",
    "        output, state = self.gru(x, initial_state = hidden)\n",
    "        return output, state\n",
    "\n",
    "    def initialize_hidden_state(self):\n",
    "        return tf.zeros((self.batch_sz, self.enc_units))"
   ]
  },
  {
   "cell_type": "code",
   "execution_count": 19,
   "metadata": {
    "ExecuteTime": {
     "end_time": "2020-02-28T04:25:50.961062Z",
     "start_time": "2020-02-28T04:25:49.707105Z"
    }
   },
   "outputs": [
    {
     "name": "stdout",
     "output_type": "stream",
     "text": [
      "Encoder output shape: (batch size, sequence length, units) (64, 16, 1024)\n",
      "Encoder Hidden state shape: (batch size, units) (64, 1024)\n"
     ]
    }
   ],
   "source": [
    "encoder = Encoder(vocab_inp_size, embedding_dim, units, BATCH_SIZE)\n",
    "\n",
    "# sample input 이용해서 shape 확인\n",
    "sample_hidden = encoder.initialize_hidden_state()\n",
    "sample_output, sample_hidden = encoder(example_input_batch, sample_hidden)\n",
    "print ('Encoder output shape: (batch size, sequence length, units) {}'.format(sample_output.shape))\n",
    "print ('Encoder Hidden state shape: (batch size, units) {}'.format(sample_hidden.shape))"
   ]
  },
  {
   "cell_type": "markdown",
   "metadata": {},
   "source": [
    "### Attention layer\n",
    "\n",
    "`score = FC(tanh(FC(EO) + FC(H)))`"
   ]
  },
  {
   "cell_type": "code",
   "execution_count": 20,
   "metadata": {
    "ExecuteTime": {
     "end_time": "2020-02-28T04:25:50.968062Z",
     "start_time": "2020-02-28T04:25:50.962098Z"
    }
   },
   "outputs": [],
   "source": [
    "class BahdanauAttention(tf.keras.layers.Layer):\n",
    "    def __init__(self, units):\n",
    "        super(BahdanauAttention, self).__init__()\n",
    "        \n",
    "        # tanh(FC(EO)) 를 위한 dense layer\n",
    "        self.W1 = tf.keras.layers.Dense(units)\n",
    "        \n",
    "        # FC(H) 를 위한 dense layer\n",
    "        self.W2 = tf.keras.layers.Dense(units)\n",
    "        \n",
    "        # Score 를 최종 계산하기 위한 dense layer\n",
    "        self.V = tf.keras.layers.Dense(1)\n",
    "\n",
    "    def call(self, query, values):\n",
    "        \n",
    "        # query 는 encoder hidden state\n",
    "        # values 는 encoder output\n",
    "        \n",
    "        # hidden shape == (batch_size, hidden size)\n",
    "        # hidden_with_time_axis shape == (batch_size, 1, hidden size)\n",
    "        \n",
    "        hidden_with_time_axis = tf.expand_dims(query, 1)\n",
    "\n",
    "        # score shape == (batch_size, max_length, 1)\n",
    "        # 마지막에 units = 1인 FC 를 사용하여 score 의 axis=2 가 1이됨\n",
    "        # the shape of the tensor before applying self.V is (batch_size, max_length, units)\n",
    "        \n",
    "        score = self.V(tf.nn.tanh(self.W1(values) + self.W2(hidden_with_time_axis)))\n",
    "\n",
    "        # attention_weights shape == (batch_size, max_length, 1)\n",
    "        attention_weights = tf.nn.softmax(score, axis=1)\n",
    "\n",
    "        # context_vector shape after sum == (batch_size, hidden_size)\n",
    "        context_vector = attention_weights * values\n",
    "        context_vector = tf.reduce_sum(context_vector, axis=1)\n",
    "\n",
    "        return context_vector, attention_weights"
   ]
  },
  {
   "cell_type": "code",
   "execution_count": 21,
   "metadata": {
    "ExecuteTime": {
     "end_time": "2020-02-28T04:25:51.316062Z",
     "start_time": "2020-02-28T04:25:50.969083Z"
    }
   },
   "outputs": [
    {
     "name": "stdout",
     "output_type": "stream",
     "text": [
      "Attention result shape: (batch size, units) (64, 1024)\n",
      "Attention weights shape: (batch_size, sequence_length, 1) (64, 16, 1)\n"
     ]
    }
   ],
   "source": [
    "attention_layer = BahdanauAttention(10)\n",
    "attention_result, attention_weights = attention_layer(sample_hidden, sample_output)\n",
    "\n",
    "print(\"Attention result shape: (batch size, units) {}\".format(attention_result.shape))\n",
    "print(\"Attention weights shape: (batch_size, sequence_length, 1) {}\".format(attention_weights.shape))"
   ]
  },
  {
   "cell_type": "markdown",
   "metadata": {},
   "source": [
    "### Decoder Model\n",
    "\n",
    "미리 생성한 attention layer 를 사용해서 context_vector 생성후\n",
    "\n",
    "`input` -> `embedding` -> `FC` <- `context_vector`"
   ]
  },
  {
   "cell_type": "code",
   "execution_count": 22,
   "metadata": {
    "ExecuteTime": {
     "end_time": "2020-02-28T04:25:51.324109Z",
     "start_time": "2020-02-28T04:25:51.317106Z"
    }
   },
   "outputs": [],
   "source": [
    "class Decoder(tf.keras.Model):\n",
    "    def __init__(self, vocab_size, embedding_dim, dec_units, batch_sz):\n",
    "        super(Decoder, self).__init__()\n",
    "        self.batch_sz = batch_sz\n",
    "        self.dec_units = dec_units\n",
    "        self.embedding = tf.keras.layers.Embedding(vocab_size, embedding_dim)\n",
    "        self.gru = tf.keras.layers.GRU(self.dec_units,\n",
    "                                       return_sequences=True,\n",
    "                                       return_state=True,\n",
    "                                       recurrent_initializer='glorot_uniform')\n",
    "        self.fc = tf.keras.layers.Dense(vocab_size)\n",
    "\n",
    "        # used for attention\n",
    "        self.attention = BahdanauAttention(self.dec_units)\n",
    "\n",
    "    def call(self, x, hidden, enc_output):\n",
    "        \n",
    "        # encoder 에서 나온 값들로 attention 값 계산 (context vector)\n",
    "        # enc_output shape == (batch_size, max_length, hidden_size)\n",
    "        context_vector, attention_weights = self.attention(hidden, enc_output)\n",
    "\n",
    "        # x shape after passing through embedding == (batch_size, 1, embedding_dim)\n",
    "        x = self.embedding(x)\n",
    "\n",
    "        # x shape after concatenation == (batch_size, 1, embedding_dim + hidden_size)\n",
    "        x = tf.concat([tf.expand_dims(context_vector, 1), x], axis=-1)\n",
    "\n",
    "        # passing the concatenated vector to the GRU\n",
    "        output, state = self.gru(x)\n",
    "\n",
    "        # output shape == (batch_size * 1, hidden_size)\n",
    "        output = tf.reshape(output, (-1, output.shape[2]))\n",
    "\n",
    "        # output shape == (batch_size, vocab)\n",
    "        x = self.fc(output)\n",
    "\n",
    "        return x, state, attention_weights"
   ]
  },
  {
   "cell_type": "code",
   "execution_count": 23,
   "metadata": {
    "ExecuteTime": {
     "end_time": "2020-02-28T04:25:51.370374Z",
     "start_time": "2020-02-28T04:25:51.327063Z"
    }
   },
   "outputs": [
    {
     "name": "stdout",
     "output_type": "stream",
     "text": [
      "Decoder output shape: (batch_size, vocab size) (64, 4935)\n"
     ]
    }
   ],
   "source": [
    "decoder = Decoder(vocab_tar_size, embedding_dim, units, BATCH_SIZE)\n",
    "\n",
    "sample_decoder_output, _, _ = decoder(tf.random.uniform((BATCH_SIZE, 1)),\n",
    "                                      sample_hidden, sample_output)\n",
    "\n",
    "print ('Decoder output shape: (batch_size, vocab size) {}'.format(sample_decoder_output.shape))"
   ]
  },
  {
   "cell_type": "markdown",
   "metadata": {},
   "source": [
    "### Optimizer / Loss / Checkpoint callback"
   ]
  },
  {
   "cell_type": "code",
   "execution_count": 24,
   "metadata": {
    "ExecuteTime": {
     "end_time": "2020-02-28T04:25:51.376341Z",
     "start_time": "2020-02-28T04:25:51.372376Z"
    }
   },
   "outputs": [],
   "source": [
    "optimizer = tf.keras.optimizers.Adam()\n",
    "loss_object = tf.keras.losses.SparseCategoricalCrossentropy(\n",
    "    from_logits=True, reduction='none')\n",
    "\n",
    "def loss_function(real, pred):\n",
    "    mask = tf.math.logical_not(tf.math.equal(real, 0))\n",
    "    loss_ = loss_object(real, pred)\n",
    "\n",
    "    mask = tf.cast(mask, dtype=loss_.dtype)\n",
    "    loss_ *= mask\n",
    "\n",
    "    return tf.reduce_mean(loss_)"
   ]
  },
  {
   "cell_type": "code",
   "execution_count": 25,
   "metadata": {
    "ExecuteTime": {
     "end_time": "2020-02-28T04:25:51.382375Z",
     "start_time": "2020-02-28T04:25:51.377341Z"
    }
   },
   "outputs": [],
   "source": [
    "checkpoint_dir = './training_checkpoints'\n",
    "checkpoint_prefix = os.path.join(checkpoint_dir, \"ckpt\")\n",
    "checkpoint = tf.train.Checkpoint(optimizer=optimizer,\n",
    "                                 encoder=encoder,\n",
    "                                 decoder=decoder)"
   ]
  },
  {
   "cell_type": "markdown",
   "metadata": {},
   "source": [
    "## Training\n",
    "\n",
    "1. `Input` 을 `Encoder` 에 통과시켜 `encoder output`, `encoder hidden state` 리턴\n",
    "2. Encoder 에서 얻은 `encoder output`, `encoder hidden state` 와 `start token` (decoder input) 을 decoder 에 입력\n",
    "3. 입력을 받은 decoder 가 `prediction` (예측값) 과 `decoder hidden state` 리턴\n",
    "4. `decoder hidden state` 는 모델로 재입력되고, `prediction` 은 `loss` 계산에 사용됨\n",
    "5.  *teacher forcing* 을 이용해 다음 입력값을 decoder 에 넣어 학습\n",
    "\n",
    "***Teacher Forcing***\n",
    "\n",
    "RNN 방식의 학습시에, 전 셀에서 나온 값을 입력으로 사용해서 학습하면 제대로 학습되기 어렵기 때문에, 실제 데이터를 입력해서 학습시키는 방법"
   ]
  },
  {
   "cell_type": "markdown",
   "metadata": {},
   "source": [
    "### Train_step\n",
    "\n",
    "각 배치별 학습 함수"
   ]
  },
  {
   "cell_type": "code",
   "execution_count": 26,
   "metadata": {
    "ExecuteTime": {
     "end_time": "2020-02-28T04:25:51.390340Z",
     "start_time": "2020-02-28T04:25:51.383341Z"
    }
   },
   "outputs": [],
   "source": [
    "@tf.function\n",
    "def train_step(inp, targ, enc_hidden):\n",
    "    \n",
    "    loss = 0\n",
    "\n",
    "    with tf.GradientTape() as tape:\n",
    "        \n",
    "        # 인코더\n",
    "        enc_output, enc_hidden = encoder(inp, enc_hidden)\n",
    "        \n",
    "        dec_hidden = enc_hidden\n",
    "        \n",
    "        # start 토큰 입력\n",
    "        dec_input = tf.expand_dims([targ_lang.word_index['<start>']] * BATCH_SIZE, 1)\n",
    "\n",
    "        # Teacher forcing\n",
    "        # 각 셀에 대하여 계산\n",
    "        for t in range(1, targ.shape[1]):\n",
    "        \n",
    "            # dec_input, dec_hidden, enc_output 을 decoder 에 입력 \n",
    "            predictions, dec_hidden, _ = decoder(dec_input, dec_hidden, enc_output)\n",
    "            \n",
    "            # loss 계산\n",
    "            loss += loss_function(targ[:, t], predictions)\n",
    "\n",
    "            # 실제 target 값을 dec_input 값으로 사용\n",
    "            dec_input = tf.expand_dims(targ[:, t], 1)\n",
    "    \n",
    "    # 현재 배치 loss 결과\n",
    "    batch_loss = (loss / int(targ.shape[1]))\n",
    "    \n",
    "    # Gradient 계산\n",
    "    variables = encoder.trainable_variables + decoder.trainable_variables\n",
    "\n",
    "    gradients = tape.gradient(loss, variables)\n",
    "    \n",
    "    # Optimizer 적용\n",
    "    optimizer.apply_gradients(zip(gradients, variables))\n",
    "\n",
    "    return batch_loss"
   ]
  },
  {
   "cell_type": "markdown",
   "metadata": {},
   "source": [
    "###  실제 학습"
   ]
  },
  {
   "cell_type": "code",
   "execution_count": 27,
   "metadata": {
    "ExecuteTime": {
     "end_time": "2020-02-28T04:31:54.852331Z",
     "start_time": "2020-02-28T04:25:51.392340Z"
    }
   },
   "outputs": [
    {
     "name": "stdout",
     "output_type": "stream",
     "text": [
      "Epoch 1 Batch 0 Loss 4.5781\n",
      "Epoch 1 Batch 100 Loss 2.1700\n",
      "Epoch 1 Batch 200 Loss 1.8503\n",
      "Epoch 1 Batch 300 Loss 1.7921\n",
      "Epoch 1 Loss 2.0315\n",
      "Time taken for 1 epoch 50.185033321380615 sec\n",
      "\n",
      "Epoch 2 Batch 0 Loss 1.5274\n",
      "Epoch 2 Batch 100 Loss 1.4867\n",
      "Epoch 2 Batch 200 Loss 1.3767\n",
      "Epoch 2 Batch 300 Loss 1.3363\n",
      "Epoch 2 Loss 1.3729\n",
      "Time taken for 1 epoch 35.196688175201416 sec\n",
      "\n",
      "Epoch 3 Batch 0 Loss 1.0392\n",
      "Epoch 3 Batch 100 Loss 0.9656\n",
      "Epoch 3 Batch 200 Loss 0.9442\n",
      "Epoch 3 Batch 300 Loss 0.9071\n",
      "Epoch 3 Loss 0.9490\n",
      "Time taken for 1 epoch 34.158753395080566 sec\n",
      "\n",
      "Epoch 4 Batch 0 Loss 0.6546\n",
      "Epoch 4 Batch 100 Loss 0.6130\n",
      "Epoch 4 Batch 200 Loss 0.6249\n",
      "Epoch 4 Batch 300 Loss 0.4940\n",
      "Epoch 4 Loss 0.6328\n",
      "Time taken for 1 epoch 34.698132038116455 sec\n",
      "\n",
      "Epoch 5 Batch 0 Loss 0.3858\n",
      "Epoch 5 Batch 100 Loss 0.4598\n",
      "Epoch 5 Batch 200 Loss 0.4464\n",
      "Epoch 5 Batch 300 Loss 0.4525\n",
      "Epoch 5 Loss 0.4248\n",
      "Time taken for 1 epoch 34.82465076446533 sec\n",
      "\n",
      "Epoch 6 Batch 0 Loss 0.2593\n",
      "Epoch 6 Batch 100 Loss 0.2361\n",
      "Epoch 6 Batch 200 Loss 0.3010\n",
      "Epoch 6 Batch 300 Loss 0.3207\n",
      "Epoch 6 Loss 0.2912\n",
      "Time taken for 1 epoch 34.957188844680786 sec\n",
      "\n",
      "Epoch 7 Batch 0 Loss 0.1807\n",
      "Epoch 7 Batch 100 Loss 0.1779\n",
      "Epoch 7 Batch 200 Loss 0.1716\n",
      "Epoch 7 Batch 300 Loss 0.2400\n",
      "Epoch 7 Loss 0.2056\n",
      "Time taken for 1 epoch 34.52320885658264 sec\n",
      "\n",
      "Epoch 8 Batch 0 Loss 0.1274\n",
      "Epoch 8 Batch 100 Loss 0.1246\n",
      "Epoch 8 Batch 200 Loss 0.1260\n",
      "Epoch 8 Batch 300 Loss 0.1476\n",
      "Epoch 8 Loss 0.1514\n",
      "Time taken for 1 epoch 34.9346866607666 sec\n",
      "\n",
      "Epoch 9 Batch 0 Loss 0.1032\n",
      "Epoch 9 Batch 100 Loss 0.1356\n",
      "Epoch 9 Batch 200 Loss 0.0980\n",
      "Epoch 9 Batch 300 Loss 0.1208\n",
      "Epoch 9 Loss 0.1181\n",
      "Time taken for 1 epoch 34.53088712692261 sec\n",
      "\n",
      "Epoch 10 Batch 0 Loss 0.0700\n",
      "Epoch 10 Batch 100 Loss 0.0970\n",
      "Epoch 10 Batch 200 Loss 0.0754\n",
      "Epoch 10 Batch 300 Loss 0.1171\n",
      "Epoch 10 Loss 0.0975\n",
      "Time taken for 1 epoch 35.44275879859924 sec\n",
      "\n"
     ]
    }
   ],
   "source": [
    "# 실제 학습\n",
    "\n",
    "EPOCHS = 10\n",
    "\n",
    "for epoch in range(EPOCHS):\n",
    "    start = time.time()\n",
    "    \n",
    "    # hidden state 0 으로 init\n",
    "    enc_hidden = encoder.initialize_hidden_state()\n",
    "    \n",
    "    # epoch 마다 계산할 loss\n",
    "    total_loss = 0\n",
    "    \n",
    "    # batch 별 train step\n",
    "    for (batch, (inp, targ)) in enumerate(dataset.take(steps_per_epoch)):\n",
    "        batch_loss = train_step(inp, targ, enc_hidden)\n",
    "        total_loss += batch_loss\n",
    "\n",
    "        if batch % 100 == 0:\n",
    "            print('Epoch {} Batch {} Loss {:.4f}'.format(epoch + 1,\n",
    "                                                         batch,\n",
    "                                                         batch_loss.numpy()))\n",
    "    # saving (checkpoint) the model every 2 epochs\n",
    "    if (epoch + 1) % 2 == 0:\n",
    "        checkpoint.save(file_prefix = checkpoint_prefix)\n",
    "\n",
    "    print('Epoch {} Loss {:.4f}'.format(epoch + 1, total_loss / steps_per_epoch))\n",
    "    print('Time taken for 1 epoch {} sec\\n'.format(time.time() - start))"
   ]
  },
  {
   "cell_type": "markdown",
   "metadata": {},
   "source": [
    "## Translation"
   ]
  },
  {
   "cell_type": "markdown",
   "metadata": {},
   "source": [
    "### evaluate\n",
    "\n",
    "* Train Loop 와 비슷하지만, teacher forcing 을 사용하지 않음. 전 step 에서 예측한 값을 그대로 사용\n",
    "* *End Token* 이 나오면 학습 종료\n",
    "* *Attention Weights* 를 step 마다 저장\n",
    "\n",
    "Note: The encoder output is calculated only once for one input."
   ]
  },
  {
   "cell_type": "code",
   "execution_count": 28,
   "metadata": {
    "ExecuteTime": {
     "end_time": "2020-02-28T04:31:54.865330Z",
     "start_time": "2020-02-28T04:31:54.854332Z"
    }
   },
   "outputs": [],
   "source": [
    "def evaluate(sentence):\n",
    "    \n",
    "    # init attention\n",
    "    attention_plot = np.zeros((max_length_targ, max_length_inp))\n",
    "    \n",
    "    # input sentence 벡터화\n",
    "    sentence = preprocess_sentence(sentence)\n",
    "    inputs = [inp_lang.word_index[i] for i in sentence.split(' ')]\n",
    "    inputs = tf.keras.preprocessing.sequence.pad_sequences([inputs],\n",
    "                                                            maxlen=max_length_inp,\n",
    "                                                            padding='post')\n",
    "    inputs = tf.convert_to_tensor(inputs)\n",
    "\n",
    "    result = ''\n",
    "    \n",
    "    # init hidden state\n",
    "    hidden = [tf.zeros((1, units))]\n",
    "    enc_out, enc_hidden = encoder(inputs, hidden)\n",
    "\n",
    "    # decoder 에 hidden state 와 start 토큰 사용\n",
    "    dec_hidden = enc_hidden\n",
    "    dec_input = tf.expand_dims([targ_lang.word_index['<start>']], 0)\n",
    "\n",
    "    for t in range(max_length_targ):\n",
    "        predictions, dec_hidden, attention_weights = decoder(dec_input,\n",
    "                                                             dec_hidden,\n",
    "                                                             enc_out)\n",
    "\n",
    "        # attention weights to plot later on\n",
    "        attention_weights = tf.reshape(attention_weights, (-1, ))\n",
    "        attention_plot[t] = attention_weights.numpy()\n",
    "        \n",
    "        # 실제 예측값\n",
    "        predicted_id = tf.argmax(predictions[0]).numpy()\n",
    "        result += targ_lang.index_word[predicted_id] + ' '\n",
    "        \n",
    "        # End 토큰 나오면 종료\n",
    "        if targ_lang.index_word[predicted_id] == '<end>':\n",
    "              return result, sentence, attention_plot\n",
    "        \n",
    "        # End token 이 아니면, 인풋으로 재사용해서 계속하여 예측\n",
    "        # the predicted ID is fed back into the model\n",
    "        dec_input = tf.expand_dims([predicted_id], 0)\n",
    "\n",
    "    return result, sentence, attention_plot"
   ]
  },
  {
   "cell_type": "markdown",
   "metadata": {},
   "source": [
    "### Plot Attention\n",
    "\n",
    "Attention weight을 plot 으로 확인하기 위한 함수"
   ]
  },
  {
   "cell_type": "code",
   "execution_count": 29,
   "metadata": {
    "ExecuteTime": {
     "end_time": "2020-02-28T04:31:54.875332Z",
     "start_time": "2020-02-28T04:31:54.867330Z"
    }
   },
   "outputs": [],
   "source": [
    "def plot_attention(attention, sentence, predicted_sentence):\n",
    "    fig = plt.figure(figsize=(10,10))\n",
    "    ax = fig.add_subplot(1, 1, 1)\n",
    "    ax.matshow(attention, cmap='viridis')\n",
    "\n",
    "    fontdict = {'fontsize': 14}\n",
    "\n",
    "    ax.set_xticklabels([''] + sentence, fontdict=fontdict, rotation=90)\n",
    "    ax.set_yticklabels([''] + predicted_sentence, fontdict=fontdict)\n",
    "\n",
    "    ax.xaxis.set_major_locator(ticker.MultipleLocator(1))\n",
    "    ax.yaxis.set_major_locator(ticker.MultipleLocator(1))\n",
    "\n",
    "    plt.show()"
   ]
  },
  {
   "cell_type": "markdown",
   "metadata": {},
   "source": [
    "###  Translation\n",
    "\n",
    "예측후 실제 결과값 리턴 함수"
   ]
  },
  {
   "cell_type": "code",
   "execution_count": 30,
   "metadata": {
    "ExecuteTime": {
     "end_time": "2020-02-28T04:31:54.885330Z",
     "start_time": "2020-02-28T04:31:54.878332Z"
    }
   },
   "outputs": [],
   "source": [
    "def translate(sentence):\n",
    "    result, sentence, attention_plot = evaluate(sentence)\n",
    "\n",
    "    print('Input: %s' % (sentence))\n",
    "    print('Predicted translation: {}'.format(result))\n",
    "\n",
    "    attention_plot = attention_plot[:len(result.split(' ')), :len(sentence.split(' '))]\n",
    "    plot_attention(attention_plot, sentence.split(' '), result.split(' '))"
   ]
  },
  {
   "cell_type": "markdown",
   "metadata": {},
   "source": [
    "### Test"
   ]
  },
  {
   "cell_type": "code",
   "execution_count": 31,
   "metadata": {
    "ExecuteTime": {
     "end_time": "2020-02-28T04:31:55.410964Z",
     "start_time": "2020-02-28T04:31:54.887330Z"
    }
   },
   "outputs": [
    {
     "data": {
      "text/plain": [
       "<tensorflow.python.training.tracking.util.CheckpointLoadStatus at 0x1a4dfa90f88>"
      ]
     },
     "execution_count": 31,
     "metadata": {},
     "output_type": "execute_result"
    }
   ],
   "source": [
    "# restoring the latest checkpoint in checkpoint_dir\n",
    "checkpoint.restore(tf.train.latest_checkpoint(checkpoint_dir))"
   ]
  },
  {
   "cell_type": "code",
   "execution_count": 32,
   "metadata": {
    "ExecuteTime": {
     "end_time": "2020-02-28T04:31:55.610980Z",
     "start_time": "2020-02-28T04:31:55.411927Z"
    }
   },
   "outputs": [
    {
     "name": "stdout",
     "output_type": "stream",
     "text": [
      "Input: <start> hace mucho frio aqui . <end>\n",
      "Predicted translation: it s very cold here . <end> \n"
     ]
    },
    {
     "data": {
      "image/png": "[encoded data removed]",
      "text/plain": [
       "<Figure size 720x720 with 1 Axes>"
      ]
     },
     "metadata": {
      "needs_background": "light"
     },
     "output_type": "display_data"
    }
   ],
   "source": [
    "translate(u'hace mucho frio aqui.')"
   ]
  },
  {
   "cell_type": "code",
   "execution_count": 33,
   "metadata": {
    "ExecuteTime": {
     "end_time": "2020-02-28T04:31:55.809968Z",
     "start_time": "2020-02-28T04:31:55.611925Z"
    }
   },
   "outputs": [
    {
     "name": "stdout",
     "output_type": "stream",
     "text": [
      "Input: <start> esta es mi vida . <end>\n",
      "Predicted translation: this is my life . <end> \n"
     ]
    },
    {
     "data": {
      "image/png": "[encoded data removed]",
      "text/plain": [
       "<Figure size 720x720 with 1 Axes>"
      ]
     },
     "metadata": {
      "needs_background": "light"
     },
     "output_type": "display_data"
    }
   ],
   "source": [
    "translate(u'esta es mi vida.')"
   ]
  },
  {
   "cell_type": "code",
   "execution_count": 34,
   "metadata": {
    "ExecuteTime": {
     "end_time": "2020-02-28T04:31:56.012457Z",
     "start_time": "2020-02-28T04:31:55.810926Z"
    }
   },
   "outputs": [
    {
     "name": "stdout",
     "output_type": "stream",
     "text": [
      "Input: <start> ¿ todavia estan en casa ? <end>\n",
      "Predicted translation: are you still at home ? <end> \n"
     ]
    },
    {
     "data": {
      "image/png": "[encoded data removed]",
      "text/plain": [
       "<Figure size 720x720 with 1 Axes>"
      ]
     },
     "metadata": {
      "needs_background": "light"
     },
     "output_type": "display_data"
    }
   ],
   "source": [
    "translate(u'¿todavia estan en casa?')"
   ]
  },
  {
   "cell_type": "code",
   "execution_count": 35,
   "metadata": {
    "ExecuteTime": {
     "end_time": "2020-02-28T04:31:56.196194Z",
     "start_time": "2020-02-28T04:31:56.013455Z"
    }
   },
   "outputs": [
    {
     "name": "stdout",
     "output_type": "stream",
     "text": [
      "Input: <start> trata de averiguarlo . <end>\n",
      "Predicted translation: try to figure it out . <end> \n"
     ]
    },
    {
     "data": {
      "image/png": "[encoded data removed]",
      "text/plain": [
       "<Figure size 720x720 with 1 Axes>"
      ]
     },
     "metadata": {
      "needs_background": "light"
     },
     "output_type": "display_data"
    }
   ],
   "source": [
    "# wrong translation\n",
    "# Try to find out\n",
    "translate(u'trata de averiguarlo.')"
   ]
  },
  {
   "cell_type": "markdown",
   "metadata": {},
   "source": [
    "## 끝!"
   ]
  }
 ],
 "metadata": {
  "kernelspec": {
   "display_name": "Python 3",
   "language": "python",
   "name": "python3"
  },
  "language_info": {
   "codemirror_mode": {
    "name": "ipython",
    "version": 3
   },
   "file_extension": ".py",
   "mimetype": "text/x-python",
   "name": "python",
   "nbconvert_exporter": "python",
   "pygments_lexer": "ipython3",
   "version": "3.7.6"
  },
  "toc": {
   "base_numbering": 1,
   "nav_menu": {},
   "number_sections": true,
   "sideBar": true,
   "skip_h1_title": true,
   "title_cell": "Table of Contents",
   "title_sidebar": "Contents",
   "toc_cell": false,
   "toc_position": {},
   "toc_section_display": true,
   "toc_window_display": true
  },
  "varInspector": {
   "cols": {
    "lenName": 16,
    "lenType": 16,
    "lenVar": 40
   },
   "kernels_config": {
    "python": {
     "delete_cmd_postfix": "",
     "delete_cmd_prefix": "del ",
     "library": "var_list.py",
     "varRefreshCmd": "print(var_dic_list())"
    },
    "r": {
     "delete_cmd_postfix": ") ",
     "delete_cmd_prefix": "rm(",
     "library": "var_list.r",
     "varRefreshCmd": "cat(var_dic_list()) "
    }
   },
   "oldHeight": 122,
   "position": {
    "height": "400px",
    "left": "171px",
    "right": "20px",
    "top": "87px",
    "width": "712px"
   },
   "types_to_exclude": [
    "module",
    "function",
    "builtin_function_or_method",
    "instance",
    "_Feature"
   ],
   "varInspector_section_display": "block",
   "window_display": false
  }
 },
 "nbformat": 4,
 "nbformat_minor": 4
}

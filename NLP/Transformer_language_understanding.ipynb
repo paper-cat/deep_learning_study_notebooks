{
 "cells": [
  {
   "cell_type": "markdown",
   "metadata": {
    "ExecuteTime": {
     "end_time": "2020-03-05T00:02:45.199465Z",
     "start_time": "2020-03-05T00:02:45.197463Z"
    }
   },
   "source": [
    "Copyright 2019 The TensorFlow Authors.\n",
    "\n",
    "이 노트북은 구글의 transformer 튜토리얼을 가져온 것입니다.\n",
    "\n",
    "source from : https://www.tensorflow.org/tutorials/text/transformer\n"
   ]
  },
  {
   "cell_type": "markdown",
   "metadata": {},
   "source": [
    "# Transformer model for language understanding"
   ]
  },
  {
   "cell_type": "markdown",
   "metadata": {},
   "source": [
    "Transformer Paper - Attention is All You Need : https://arxiv.org/abs/1706.03762"
   ]
  },
  {
   "cell_type": "markdown",
   "metadata": {},
   "source": [
    "이 노트북은 포르투갈어를 영어로 번역하는 Transformer 모델에 대한 설명입니다. Text Generation 과 Attention 에 대한 기본 이해를 필요로 합니다."
   ]
  },
  {
   "cell_type": "markdown",
   "metadata": {
    "ExecuteTime": {
     "end_time": "2020-03-05T00:09:54.022371Z",
     "start_time": "2020-03-05T00:09:54.017371Z"
    }
   },
   "source": [
    "Transformer 모델의 핵심 아이디어는 Self-Attention 입니다. Self Attention 은 다른 위치의 입력 시퀀스를 계산하여 표현하는 방법입니다. Transformer 는 Self Attention 레이어들을 쌓아 생성됩니다. "
   ]
  },
  {
   "cell_type": "markdown",
   "metadata": {},
   "source": [
    "Transformer 모델은 다양한 크기의 입력을 RNN 이나 CNN 대신 self attention 레이어들을 이용하여 처리합니다. 이런 구조의 장점은\n",
    "- 데이터들의 일시적인 / 공간적인 관계에 구애받지 않습니다. 이것은 object 들의 처리에 이상적입니다 \n",
    "- 레이어들의 출력값들이 평행적으로(동시에) 처리 가능합니다. (RNN 같은 series 는 불가능)\n",
    "- 다수의 RNN 이나 Conv 레이어들을 통하지 않아도 멀리 떨어진 값들에 영향을 미칠수 있습니다.\n",
    "- 멀리 떨어져 있는 데이터들의 의존관계에 대해 학습할 수 있습니다. 이건 많은 Sequence 문제들의 난제였습니다"
   ]
  },
  {
   "cell_type": "markdown",
   "metadata": {},
   "source": [
    "Transformer 모델의 단점은,\n",
    "- 시계열(time-series) 데이터의 경우, 각 시기의 출력값은 입력값과 hidden-state 으로 계산되는 대신 전체적인 기록으로 계산됩니다.\n",
    "- 만약 입력값에 일시적인 / 공간적인 관계가 있다면 (문자열처럼) 위치값이 추가되어야 합니다."
   ]
  },
  {
   "cell_type": "markdown",
   "metadata": {},
   "source": [
    "## 패키지 로드"
   ]
  },
  {
   "cell_type": "code",
   "execution_count": 1,
   "metadata": {
    "ExecuteTime": {
     "end_time": "2020-03-06T04:33:59.789858Z",
     "start_time": "2020-03-06T04:33:57.145807Z"
    }
   },
   "outputs": [],
   "source": [
    "from __future__ import absolute_import, division, print_function, unicode_literals\n",
    "\n",
    "import tensorflow as tf\n",
    "import tensorflow_datasets as tfds\n",
    "\n",
    "import time\n",
    "import numpy as np\n",
    "import matplotlib.pyplot as plt"
   ]
  },
  {
   "cell_type": "code",
   "execution_count": 2,
   "metadata": {
    "ExecuteTime": {
     "end_time": "2020-03-06T04:33:59.795815Z",
     "start_time": "2020-03-06T04:33:59.790858Z"
    }
   },
   "outputs": [
    {
     "data": {
      "text/plain": [
       "'2.1.0'"
      ]
     },
     "execution_count": 2,
     "metadata": {},
     "output_type": "execute_result"
    }
   ],
   "source": [
    "tf.version.VERSION"
   ]
  },
  {
   "cell_type": "code",
   "execution_count": 3,
   "metadata": {
    "ExecuteTime": {
     "end_time": "2020-03-06T04:33:59.857858Z",
     "start_time": "2020-03-06T04:33:59.797816Z"
    }
   },
   "outputs": [
    {
     "name": "stdout",
     "output_type": "stream",
     "text": [
      "Num GPUs Available:  1\n"
     ]
    }
   ],
   "source": [
    "# GPU load 문제가 생길때\n",
    "physical_devices = tf.config.list_physical_devices('GPU')\n",
    "print(\"Num GPUs Available: \", len(tf.config.experimental.list_physical_devices('GPU')))\n",
    "tf.config.experimental.set_memory_growth(physical_devices[0], enable=True)"
   ]
  },
  {
   "cell_type": "markdown",
   "metadata": {},
   "source": [
    "## 입력 Pipeline"
   ]
  },
  {
   "cell_type": "markdown",
   "metadata": {
    "ExecuteTime": {
     "end_time": "2020-03-05T00:34:06.550312Z",
     "start_time": "2020-03-05T00:34:06.547312Z"
    }
   },
   "source": [
    "###  Data Load\n",
    "\n",
    "TFDS 에서 포르투갈어 - 영어 번역 데이터를 가져옵니다.\n",
    "\n",
    "약 50000개의 학습 데이터와 1100개의 검증 데이터, 2000개의 테스트 데이터가 있습니다."
   ]
  },
  {
   "cell_type": "code",
   "execution_count": 4,
   "metadata": {
    "ExecuteTime": {
     "end_time": "2020-03-06T04:34:00.718903Z",
     "start_time": "2020-03-06T04:33:59.858862Z"
    }
   },
   "outputs": [
    {
     "name": "stderr",
     "output_type": "stream",
     "text": [
      "WARNING:absl:Found a different version 1.0.0 of dataset ted_hrlr_translate in data_dir C:\\Users\\jhpark\\tensorflow_datasets. Using currently defined version 0.0.1.\n",
      "WARNING:absl:Warning: Setting shuffle_files=True because split=TRAIN and shuffle_files=None. This behavior will be deprecated on 2019-08-06, at which point shuffle_files=False will be the default for all splits.\n"
     ]
    }
   ],
   "source": [
    "examples, metadata = tfds.load('ted_hrlr_translate/pt_to_en', with_info=True, as_supervised=True)\n",
    "train_examples, val_examples = examples['train'], examples['validation']"
   ]
  },
  {
   "cell_type": "markdown",
   "metadata": {},
   "source": [
    "### subwords Tokenizer\n",
    "\n",
    "TFDS 에서 제공"
   ]
  },
  {
   "cell_type": "code",
   "execution_count": 5,
   "metadata": {
    "ExecuteTime": {
     "end_time": "2020-03-06T04:35:43.844629Z",
     "start_time": "2020-03-06T04:34:00.719873Z"
    }
   },
   "outputs": [],
   "source": [
    "tokenizer_en = tfds.features.text.SubwordTextEncoder.build_from_corpus(\n",
    "    (en.numpy() for pt, en in train_examples), target_vocab_size=2**13)\n",
    "\n",
    "tokenizer_pt = tfds.features.text.SubwordTextEncoder.build_from_corpus(\n",
    "    (pt.numpy() for pt, en in train_examples), target_vocab_size=2**13)"
   ]
  },
  {
   "cell_type": "markdown",
   "metadata": {},
   "source": [
    "Tokenizer + Encoding 테스트"
   ]
  },
  {
   "cell_type": "code",
   "execution_count": 6,
   "metadata": {
    "ExecuteTime": {
     "end_time": "2020-03-06T04:35:43.849630Z",
     "start_time": "2020-03-06T04:35:43.845629Z"
    }
   },
   "outputs": [
    {
     "name": "stdout",
     "output_type": "stream",
     "text": [
      "Tokenized string is [7915, 1248, 7946, 7194, 13, 2799, 7877]\n",
      "The original string: Transformer is awesome.\n"
     ]
    }
   ],
   "source": [
    "sample_string = 'Transformer is awesome.'\n",
    "\n",
    "tokenized_string = tokenizer_en.encode(sample_string)\n",
    "print ('Tokenized string is {}'.format(tokenized_string))\n",
    "\n",
    "original_string = tokenizer_en.decode(tokenized_string)\n",
    "print ('The original string: {}'.format(original_string))\n",
    "\n",
    "assert original_string == sample_string"
   ]
  },
  {
   "cell_type": "code",
   "execution_count": 7,
   "metadata": {
    "ExecuteTime": {
     "end_time": "2020-03-06T04:35:43.856633Z",
     "start_time": "2020-03-06T04:35:43.850630Z"
    }
   },
   "outputs": [
    {
     "name": "stdout",
     "output_type": "stream",
     "text": [
      "7915 ----> T\n",
      "1248 ----> ran\n",
      "7946 ----> s\n",
      "7194 ----> former \n",
      "13 ----> is \n",
      "2799 ----> awesome\n",
      "7877 ----> .\n"
     ]
    }
   ],
   "source": [
    "for ts in tokenized_string:\n",
    "  print ('{} ----> {}'.format(ts, tokenizer_en.decode([ts])))"
   ]
  },
  {
   "cell_type": "markdown",
   "metadata": {},
   "source": [
    "### 배치 사이즈 / 버퍼 사이즈 정의"
   ]
  },
  {
   "cell_type": "code",
   "execution_count": 8,
   "metadata": {
    "ExecuteTime": {
     "end_time": "2020-03-06T04:35:43.862632Z",
     "start_time": "2020-03-06T04:35:43.858631Z"
    }
   },
   "outputs": [],
   "source": [
    "BUFFER_SIZE = 20000\n",
    "BATCH_SIZE = 128"
   ]
  },
  {
   "cell_type": "markdown",
   "metadata": {},
   "source": [
    "### Start / End 토큰을 입력, 출력 값에 넣어주기 위해 공간 추가"
   ]
  },
  {
   "cell_type": "code",
   "execution_count": 9,
   "metadata": {
    "ExecuteTime": {
     "end_time": "2020-03-06T04:35:43.869631Z",
     "start_time": "2020-03-06T04:35:43.863630Z"
    }
   },
   "outputs": [],
   "source": [
    "def encode(lang1, lang2):\n",
    "    lang1 = [tokenizer_pt.vocab_size] + tokenizer_pt.encode(\n",
    "        lang1.numpy()) + [tokenizer_pt.vocab_size+1]\n",
    "\n",
    "    lang2 = [tokenizer_en.vocab_size] + tokenizer_en.encode(\n",
    "        lang2.numpy()) + [tokenizer_en.vocab_size+1]\n",
    "  \n",
    "    return lang1, lang2"
   ]
  },
  {
   "cell_type": "markdown",
   "metadata": {},
   "source": [
    "Dataset.map 을 사용하여 위의 함수를 적용할 수 있지만, Dataset.map 은 그래프 모드로 실행되기 때문에 tensorflow 함수만 사용 가능합니다.\n",
    "\n",
    "따라서 .map 을 바로 사용할 수 없고, tf.py_function 을 사용해야 합니다."
   ]
  },
  {
   "cell_type": "code",
   "execution_count": 10,
   "metadata": {
    "ExecuteTime": {
     "end_time": "2020-03-06T04:35:43.875630Z",
     "start_time": "2020-03-06T04:35:43.870630Z"
    }
   },
   "outputs": [],
   "source": [
    "def tf_encode(pt, en):\n",
    "    result_pt, result_en = tf.py_function(encode, [pt, en], [tf.int64, tf.int64])\n",
    "    result_pt.set_shape([None])\n",
    "    result_en.set_shape([None])\n",
    "\n",
    "    return result_pt, result_en"
   ]
  },
  {
   "cell_type": "markdown",
   "metadata": {},
   "source": [
    "**학습 속도를 빠르게 하기 위해 40개 이상의 토큰은 제거하여 학습합니다 (그대로 해야 성능은 더 잘 나옵니다)**"
   ]
  },
  {
   "cell_type": "code",
   "execution_count": 11,
   "metadata": {
    "ExecuteTime": {
     "end_time": "2020-03-06T04:35:43.880631Z",
     "start_time": "2020-03-06T04:35:43.876631Z"
    }
   },
   "outputs": [],
   "source": [
    "MAX_LENGTH = 40"
   ]
  },
  {
   "cell_type": "code",
   "execution_count": 12,
   "metadata": {
    "ExecuteTime": {
     "end_time": "2020-03-06T04:35:43.885630Z",
     "start_time": "2020-03-06T04:35:43.881630Z"
    }
   },
   "outputs": [],
   "source": [
    "def filter_max_length(x, y, max_length=MAX_LENGTH):\n",
    "    return tf.logical_and(tf.size(x) <= max_length,\n",
    "                           tf.size(y) <= max_length)"
   ]
  },
  {
   "cell_type": "code",
   "execution_count": 13,
   "metadata": {
    "ExecuteTime": {
     "end_time": "2020-03-06T04:35:44.041630Z",
     "start_time": "2020-03-06T04:35:43.886631Z"
    }
   },
   "outputs": [],
   "source": [
    "# Map, filter 를 이용하여 tf_encode, maxlenght 적용합니다\n",
    "train_dataset = train_examples.map(tf_encode)\n",
    "train_dataset = train_dataset.filter(filter_max_length)\n",
    "\n",
    "# 데이터셋을 메모리에 캐시하여 읽기 속도를 빠르게 합니다.\n",
    "train_dataset = train_dataset.cache()\n",
    "train_dataset = train_dataset.shuffle(BUFFER_SIZE).padded_batch(batch_size = BATCH_SIZE, padded_shapes=([None],[None]))\n",
    "train_dataset = train_dataset.prefetch(tf.data.experimental.AUTOTUNE)\n",
    "\n",
    "# 검증 데이터셋에도 적용해줍니다.\n",
    "val_dataset = val_examples.map(tf_encode)\n",
    "val_dataset = val_dataset.filter(filter_max_length).padded_batch(BATCH_SIZE,  padded_shapes=([None],[None]))"
   ]
  },
  {
   "cell_type": "code",
   "execution_count": 14,
   "metadata": {
    "ExecuteTime": {
     "end_time": "2020-03-06T04:35:44.163631Z",
     "start_time": "2020-03-06T04:35:44.042631Z"
    }
   },
   "outputs": [
    {
     "data": {
      "text/plain": [
       "(<tf.Tensor: shape=(128, 40), dtype=int64, numpy=\n",
       " array([[8214, 1259,    5, ...,    0,    0,    0],\n",
       "        [8214,  299,   13, ...,    0,    0,    0],\n",
       "        [8214,   59,    8, ...,    0,    0,    0],\n",
       "        ...,\n",
       "        [8214,  119,    1, ...,    0,    0,    0],\n",
       "        [8214,   24,  684, ...,    0,    0,    0],\n",
       "        [8214, 3169,    3, ...,    0,    0,    0]], dtype=int64)>,\n",
       " <tf.Tensor: shape=(128, 40), dtype=int64, numpy=\n",
       " array([[8087,   18,   12, ...,    0,    0,    0],\n",
       "        [8087,  634,   30, ...,    0,    0,    0],\n",
       "        [8087,   16,   13, ...,    0,    0,    0],\n",
       "        ...,\n",
       "        [8087,   18,   12, ...,    0,    0,    0],\n",
       "        [8087,   19,    8, ...,    0,    0,    0],\n",
       "        [8087, 4658,  354, ...,    0,    0,    0]], dtype=int64)>)"
      ]
     },
     "execution_count": 14,
     "metadata": {},
     "output_type": "execute_result"
    }
   ],
   "source": [
    "pt_batch, en_batch = next(iter(val_dataset))\n",
    "pt_batch, en_batch"
   ]
  },
  {
   "cell_type": "markdown",
   "metadata": {},
   "source": [
    "## Positional encoding - 위치 인코딩\n",
    "\n",
    "Transformer 모델은 RNN 이나 CONV 을 포함하지 않기 때문에 문장의 단어들의 위치 관계 데이터를 인코딩 하여 추가해야 합니다.\n",
    "\n",
    "이 위치 인코딩 데이터는 임베딩 벡터에 추가됩니다. \n",
    "\n",
    "임베딩은 비슷한 의미의 토큰일수록 더 가까이 있는 D-차원의 공간을 표현합니다.\n",
    "\n",
    "하지만 임베딩은 한 문장의 단어들의 위치 관계를 인코드 하지는 않습니다. 따라서 위치 인코딩을 추가한 뒤에는,\n",
    "1. 의미가 비슷하고 \n",
    "2. 한 문장에서 가까이 위치한\n",
    "\n",
    "단어들은 D-차원의 공간에서 더 가까워지게 됩니다."
   ]
  },
  {
   "cell_type": "markdown",
   "metadata": {},
   "source": [
    "Positional Encoding (위치 인코딩) 에 대한 노트북<br />\n",
    "https://github.com/tensorflow/examples/blob/master/community/en/position_encoding.ipynb"
   ]
  },
  {
   "cell_type": "markdown",
   "metadata": {},
   "source": [
    "위치 데이터를 계산하는 공식은\n",
    "\n",
    "\n",
    "$$\\Large{PE_{(pos, 2i)} = sin(pos / 10000^{2i / d_{model}})} $$\n",
    "$$\\Large{PE_{(pos, 2i+1)} = cos(pos / 10000^{2i / d_{model}})} $$"
   ]
  },
  {
   "cell_type": "markdown",
   "metadata": {},
   "source": [
    "### positional encoding 계산"
   ]
  },
  {
   "cell_type": "code",
   "execution_count": 15,
   "metadata": {
    "ExecuteTime": {
     "end_time": "2020-03-06T04:35:44.169630Z",
     "start_time": "2020-03-06T04:35:44.164630Z"
    }
   },
   "outputs": [],
   "source": [
    "# 위의 위치 데이터 공식대로 계산하는 함수\n",
    "\n",
    "def get_angles(pos, i, d_model):\n",
    "    angle_rates = 1 / np.power(10000, (2 * (i//2)) / np.float32(d_model))\n",
    "    return pos * angle_rates"
   ]
  },
  {
   "cell_type": "code",
   "execution_count": 16,
   "metadata": {
    "ExecuteTime": {
     "end_time": "2020-03-06T04:35:44.175631Z",
     "start_time": "2020-03-06T04:35:44.170630Z"
    }
   },
   "outputs": [],
   "source": [
    "def positional_encoding(position, d_model):\n",
    "    # 위의 공식으로 PE (positional encoding) 값 구하기\n",
    "    angle_rads = get_angles(np.arange(position)[:, np.newaxis],\n",
    "                            np.arange(d_model)[np.newaxis, :],\n",
    "                            d_model)\n",
    "  \n",
    "    # apply sin to even indices in the array; 2i\n",
    "    # 2i (짝수) 에는 sin 값 적용\n",
    "    angle_rads[:, 0::2] = np.sin(angle_rads[:, 0::2])\n",
    "  \n",
    "    # apply cos to odd indices in the array; 2i+1\n",
    "    # 2i+1 (홀수) 에는 cos 값 적용\n",
    "    angle_rads[:, 1::2] = np.cos(angle_rads[:, 1::2])\n",
    "    \n",
    "    # sin / cos 값 적용한것 붙임\n",
    "    pos_encoding = angle_rads[np.newaxis, ...]\n",
    "    \n",
    "    return tf.cast(pos_encoding, dtype=tf.float32)"
   ]
  },
  {
   "cell_type": "code",
   "execution_count": 17,
   "metadata": {
    "ExecuteTime": {
     "end_time": "2020-03-06T04:35:44.390674Z",
     "start_time": "2020-03-06T04:35:44.176630Z"
    }
   },
   "outputs": [
    {
     "name": "stdout",
     "output_type": "stream",
     "text": [
      "(1, 50, 512)\n"
     ]
    },
    {
     "data": {
      "image/png": "[encoded data removed]",
      "text/plain": [
       "<Figure size 432x288 with 2 Axes>"
      ]
     },
     "metadata": {
      "needs_background": "light"
     },
     "output_type": "display_data"
    }
   ],
   "source": [
    "pos_encoding = positional_encoding(50, 512)\n",
    "print (pos_encoding.shape)\n",
    "\n",
    "plt.pcolormesh(pos_encoding[0], cmap='RdBu')\n",
    "plt.xlabel('Depth')\n",
    "plt.xlim((0, 512))\n",
    "plt.ylabel('Position')\n",
    "plt.colorbar()\n",
    "plt.show()"
   ]
  },
  {
   "cell_type": "markdown",
   "metadata": {},
   "source": [
    "## Masking\n",
    "\n",
    "모델이 padding 을 입력값으로 여기지 않게 하기 위하여 모든 Pad 토큰들을 mask 합니다.\n",
    "\n",
    "Pad 값이 0 이면 mask 이기 때문에 1을 출력합니다. 아니면 0 을 출력합니다.\n"
   ]
  },
  {
   "cell_type": "code",
   "execution_count": 18,
   "metadata": {
    "ExecuteTime": {
     "end_time": "2020-03-06T04:35:44.394636Z",
     "start_time": "2020-03-06T04:35:44.391682Z"
    }
   },
   "outputs": [],
   "source": [
    "def create_padding_mask(seq):\n",
    "    seq = tf.cast(tf.math.equal(seq, 0), tf.float32)\n",
    "  \n",
    "    # add extra dimensions to add the padding\n",
    "    # to the attention logits.\n",
    "    return seq[:, tf.newaxis, tf.newaxis, :]  # (batch_size, 1, 1, seq_len)"
   ]
  },
  {
   "cell_type": "code",
   "execution_count": 19,
   "metadata": {
    "ExecuteTime": {
     "end_time": "2020-03-06T04:35:44.404674Z",
     "start_time": "2020-03-06T04:35:44.395630Z"
    }
   },
   "outputs": [
    {
     "data": {
      "text/plain": [
       "<tf.Tensor: shape=(3, 1, 1, 5), dtype=float32, numpy=\n",
       "array([[[[0., 0., 1., 1., 0.]]],\n",
       "\n",
       "\n",
       "       [[[0., 0., 0., 1., 1.]]],\n",
       "\n",
       "\n",
       "       [[[1., 1., 1., 0., 0.]]]], dtype=float32)>"
      ]
     },
     "execution_count": 19,
     "metadata": {},
     "output_type": "execute_result"
    }
   ],
   "source": [
    "x = tf.constant([[7, 6, 0, 0, 1], [1, 2, 3, 0, 0], [0, 0, 0, 4, 5]])\n",
    "create_padding_mask(x)"
   ]
  },
  {
   "cell_type": "markdown",
   "metadata": {},
   "source": [
    "### Look ahead mask\n",
    "\n",
    "Look-ahead mask 는 다음 토큰들을 mask 해주기 위해 사용됩니다. 어떤 입력값들이 사용되지 않을지 나타내는곳에 사용된다는 뜻입니다.\n",
    "\n",
    "예를들어, 3번째 단어를 예측할때는 오직 1,2 번째 단어만 사용한다는 뜻입니다."
   ]
  },
  {
   "cell_type": "markdown",
   "metadata": {},
   "source": [
    "### band_part\n",
    "tf.linalg.band_part : \n",
    "https://www.tensorflow.org/api_docs/python/tf/linalg/band_part\n",
    "\n",
    "tf.linalg.band_part (input, mum_lower, num_max)\n",
    "\n",
    "num_lower 은 유지할 subdiagonal 갯수, num_max 는 유지할 superdiagonal 갯수\n",
    "\n",
    "matrix 가 아래와 같을때\n",
    "\n",
    "a,b,c<br />\n",
    "d,e,f<br />\n",
    "g,h,i\n",
    "\n",
    "subdiagonal : [g], [d,h] ... 왼쪽 아래부터 시작하는 대각선<br />\n",
    "superdiagonal : [c], [b,f] ... 오른쪽 위부터 시작하는 대각선을 뜻함"
   ]
  },
  {
   "cell_type": "code",
   "execution_count": 20,
   "metadata": {
    "ExecuteTime": {
     "end_time": "2020-03-06T04:35:44.409675Z",
     "start_time": "2020-03-06T04:35:44.405631Z"
    }
   },
   "outputs": [],
   "source": [
    "def create_look_ahead_mask(size):\n",
    "    # SuperDiagonal 전부 제거\n",
    "    # SubDiagonal 유지\n",
    "    # 이후 1 에서 빼므로 0, 1 전환\n",
    "    mask = 1 - tf.linalg.band_part(tf.ones((size, size)), -1, 0)\n",
    "    return mask  # (seq_len, seq_len)"
   ]
  },
  {
   "cell_type": "code",
   "execution_count": 21,
   "metadata": {
    "ExecuteTime": {
     "end_time": "2020-03-06T04:35:44.419630Z",
     "start_time": "2020-03-06T04:35:44.410632Z"
    }
   },
   "outputs": [
    {
     "data": {
      "text/plain": [
       "<tf.Tensor: shape=(3, 3), dtype=float32, numpy=\n",
       "array([[0., 1., 1.],\n",
       "       [0., 0., 1.],\n",
       "       [0., 0., 0.]], dtype=float32)>"
      ]
     },
     "execution_count": 21,
     "metadata": {},
     "output_type": "execute_result"
    }
   ],
   "source": [
    "x = tf.random.uniform((1, 3))\n",
    "temp = create_look_ahead_mask(x.shape[1])\n",
    "temp"
   ]
  },
  {
   "cell_type": "markdown",
   "metadata": {},
   "source": [
    "## Scaled Dot Product Attention"
   ]
  },
  {
   "cell_type": "markdown",
   "metadata": {
    "ExecuteTime": {
     "end_time": "2020-03-05T04:13:55.545923Z",
     "start_time": "2020-03-05T04:13:55.540953Z"
    }
   },
   "source": [
    "<img src=\"https://www.tensorflow.org/images/tutorials/transformer/scaled_attention.png\" width=\"500\" alt=\"scaled_dot_product_attention\">"
   ]
  },
  {
   "cell_type": "markdown",
   "metadata": {},
   "source": [
    "### 개념, 계산식\n",
    "\n",
    "Transformer 에서 사용되는 Attention 함수는 3개의 입력값을 받습니다.<br />\n",
    "Q (query), K (key), V (value) 입니다. <br />\n",
    "Attention weight 을 계산하기 위해 사용되는 식은 아래와 같습니다.\n",
    "\n",
    "$$\\Large{Attention(Q, K, V) = softmax_k(\\frac{QK^T}{\\sqrt{d_k}}) V} $$\n",
    "\n",
    "Dot-product(내적) Attention 은 depth 의 루트값에 의해 scaled (크기값이 적용) 됩니다. Depth 의 루트값으로 scaling 하는 이유는, 내적값이 너무 커지면 softmax 의 gradient (경사도) 가 작아져서 softmax 를 적용하기 어려워 지기 때문입니다.\n",
    "\n",
    "Mask 는 -1e9 (음의 무한값과 유사) 와 곱해집니다. 왜냐면 mask는 scaled matrix Q * K 과 합쳐지고, softmax 직전에 적용되기 때문입니다. Mask 의 목적은 이 셀들을 0 으로 제거하는것이기 때문에, 이 방식으로 아주 큰 음의 값으로 softmax 를 취해 0에 가까운 값이 나오게 합니다."
   ]
  },
  {
   "cell_type": "code",
   "execution_count": 22,
   "metadata": {
    "ExecuteTime": {
     "end_time": "2020-03-06T04:35:44.426632Z",
     "start_time": "2020-03-06T04:35:44.420632Z"
    }
   },
   "outputs": [],
   "source": [
    "def scaled_dot_product_attention(q, k, v, mask):\n",
    "    \"\"\"Calculate the attention weights.\n",
    "    q, k, v must have matching leading dimensions.\n",
    "    k, v must have matching penultimate dimension, i.e.: seq_len_k = seq_len_v.\n",
    "    The mask has different shapes depending on its type(padding or look ahead) \n",
    "    but it must be broadcastable for addition.\n",
    "                  \n",
    "                  |\n",
    "                  V\n",
    "                  \n",
    "      어텐션 weight 을 계산합니다.\n",
    "      1. q k v 의 앞 부분의 차원이 같아야 합니다.\n",
    "      2. k v 끝에서 두번째의 차원이 같아야 합니다.\n",
    "      3. mask 의 유형에 따라 shape 이 다릅니다.\n",
    "      4. 하지만 mask 는 더할수 있게 broadcastable 해야 합니다 (수식 계산이 가능하게 배열을 자동으로 변환)\n",
    "         - 참고 : https://sacko.tistory.com/16\n",
    "         \n",
    "    Args:\n",
    "        q: query shape == (..., seq_len_q, depth)\n",
    "        k: key shape == (..., seq_len_k, depth)\n",
    "        v: value shape == (..., seq_len_v, depth_v)\n",
    "        mask: Float tensor with shape broadcastable \n",
    "              to (..., seq_len_q, seq_len_k). Defaults to None.\n",
    "    \n",
    "    Returns:\n",
    "        output, attention_weights\n",
    "    \"\"\"\n",
    "    \n",
    "    # Q 와 K transpose 의 내적 (dot product)\n",
    "    matmul_qk = tf.matmul(q, k, transpose_b=True)  # (..., seq_len_q, seq_len_k)\n",
    "      \n",
    "    # dk (k 의 depth) 계산\n",
    "    dk = tf.cast(tf.shape(k)[-1], tf.float32)\n",
    "    \n",
    "    # scaled attention\n",
    "    scaled_attention_logits = matmul_qk / tf.math.sqrt(dk)\n",
    "\n",
    "    # scaled tensor 에 mask 추가\n",
    "    if mask is not None:\n",
    "        scaled_attention_logits += (mask * -1e9)  \n",
    "\n",
    "    # Softmax 는 마지막 axis 에서 정규화 되기 때문에 score의 합은 1입니다.\n",
    "    attention_weights = tf.nn.softmax(scaled_attention_logits, axis=-1)  # (..., seq_len_q, seq_len_k)\n",
    "    \n",
    "    # Attention weight 과 벡터의 곱\n",
    "    output = tf.matmul(attention_weights, v)  # (..., seq_len_q, depth_v)\n",
    "\n",
    "    return output, attention_weights"
   ]
  },
  {
   "cell_type": "markdown",
   "metadata": {},
   "source": [
    "### 결과값의 의미\n",
    "\n",
    "(As the softmax normalization is done on K, its values decide the amount of importance given to Q.)<br />\n",
    "Softmax 의 정규화는 K 에서 되기때문에, 값은 주어진 Q값의 중요도에 따라 결정됩니다. (무슨 소리지..?)<br />\n",
    "\n",
    "(... softmax 가 적용되는 대상이 Q 와 K transpose 의 내적값이기 때문에??)\n",
    "\n",
    "출력값은 attention weight 과 V의 곱이기 때문에, 집중할 단어의 영향은 유지되고, 관계 없는 단어의 영향은 사라집니다."
   ]
  },
  {
   "cell_type": "markdown",
   "metadata": {},
   "source": [
    "### 계산 과정 확인"
   ]
  },
  {
   "cell_type": "code",
   "execution_count": 23,
   "metadata": {
    "ExecuteTime": {
     "end_time": "2020-03-06T04:35:44.434631Z",
     "start_time": "2020-03-06T04:35:44.430631Z"
    }
   },
   "outputs": [],
   "source": [
    "def print_out(q, k, v):\n",
    "    temp_out, temp_attn = scaled_dot_product_attention(\n",
    "        q, k, v, None)\n",
    "    print ('Attention weights are:')\n",
    "    print (temp_attn)\n",
    "    print ('Output is:')\n",
    "    print (temp_out)"
   ]
  },
  {
   "cell_type": "code",
   "execution_count": 24,
   "metadata": {
    "ExecuteTime": {
     "end_time": "2020-03-06T04:35:44.759674Z",
     "start_time": "2020-03-06T04:35:44.436631Z"
    }
   },
   "outputs": [
    {
     "name": "stdout",
     "output_type": "stream",
     "text": [
      "계산 과정을 출력 합니다\n",
      "QK^t                : tf.Tensor([[  0. 100.   0.   0.]], shape=(1, 4), dtype=float32)\n",
      "Deep K              : tf.Tensor(3.0, shape=(), dtype=float32)\n",
      "Scaled Attention    : tf.Tensor([[ 0.       57.735027  0.        0.      ]], shape=(1, 4), dtype=float32)\n",
      "attention_weights   : tf.Tensor([[0. 1. 0. 0.]], shape=(1, 4), dtype=float32)\n",
      "Output              : tf.Tensor([[10.  0.]], shape=(1, 2), dtype=float32)\n",
      "\n",
      "Query 가 key 의 2번쨰 값과 연관있으므로, Attention weight 도 2번째 항에 1로, Output 도 2번째 key값으로 나옴\n"
     ]
    }
   ],
   "source": [
    "np.set_printoptions(suppress=True)\n",
    "\n",
    "temp_k = tf.constant([[10,0,0],\n",
    "                      [0,10,0],\n",
    "                      [0,0,10],\n",
    "                      [0,0,10]], dtype=tf.float32)  # (4, 3)\n",
    "\n",
    "temp_v = tf.constant([[   1,0],\n",
    "                      [  10,0],\n",
    "                      [ 100,5],\n",
    "                      [1000,6]], dtype=tf.float32)  # (4, 2)\n",
    "\n",
    "# Query 가 2번째 key 와 연관있음.\n",
    "# 따라서 2번째 value 가 리턴됨\n",
    "\n",
    "temp_q = tf.constant([[0, 10, 0]], dtype=tf.float32)  # (1, 3)\n",
    "\n",
    "############### 계산 중간값들 Print\n",
    "\n",
    "print('계산 과정을 출력 합니다')\n",
    "# QK matmul\n",
    "matmul_qk = tf.matmul(temp_q, temp_k, transpose_b=True)\n",
    "print('{:18}'.format('QK^t'), ' :', matmul_qk)\n",
    "\n",
    "# deep of k\n",
    "dk = tf.cast(tf.shape(temp_k)[-1], tf.float32)\n",
    "print('{:18}'.format('Deep K'), ' :',dk)\n",
    "\n",
    "# scaled attention\n",
    "scaled_attention_logits = matmul_qk / tf.math.sqrt(dk)\n",
    "print('{:18}'.format('Scaled Attention'), ' :',scaled_attention_logits)\n",
    "\n",
    "\n",
    "# attention weight\n",
    "attention_weights = tf.nn.softmax(scaled_attention_logits, axis=-1)  # (..., seq_len_q, seq_len_k)\n",
    "print('{:18}'.format('attention_weights'), ' :',attention_weights)\n",
    "\n",
    "# Attention weight 과 벡터의 곱\n",
    "output = tf.matmul(attention_weights, temp_v)  # (..., seq_len_q, depth_v)\n",
    "print('{:18}'.format('Output'), ' :',output)\n",
    "\n",
    "print('')\n",
    "print('Query 가 key 의 2번쨰 값과 연관있으므로, Attention weight 도 2번째 항에 1로, Output 도 2번째 key값으로 나옴')"
   ]
  },
  {
   "cell_type": "markdown",
   "metadata": {},
   "source": [
    "Query를 3번째, 2번째, (1,2)번째 값과 연관시켜 weight 을 보면"
   ]
  },
  {
   "cell_type": "code",
   "execution_count": 25,
   "metadata": {
    "ExecuteTime": {
     "end_time": "2020-03-06T04:35:44.768630Z",
     "start_time": "2020-03-06T04:35:44.760631Z"
    }
   },
   "outputs": [
    {
     "name": "stdout",
     "output_type": "stream",
     "text": [
      "Attention weights are:\n",
      "tf.Tensor(\n",
      "[[0.  0.  0.5 0.5]\n",
      " [0.  1.  0.  0. ]\n",
      " [0.5 0.5 0.  0. ]], shape=(3, 4), dtype=float32)\n",
      "Output is:\n",
      "tf.Tensor(\n",
      "[[550.    5.5]\n",
      " [ 10.    0. ]\n",
      " [  5.5   0. ]], shape=(3, 2), dtype=float32)\n"
     ]
    }
   ],
   "source": [
    "temp_q = tf.constant([[0, 0, 10], [0, 10, 0], [10, 10, 0]], dtype=tf.float32)  # (3, 3)\n",
    "print_out(temp_q, temp_k, temp_v)"
   ]
  },
  {
   "cell_type": "markdown",
   "metadata": {},
   "source": [
    "## Multi Head Attention"
   ]
  },
  {
   "cell_type": "markdown",
   "metadata": {},
   "source": [
    "<img src=\"https://www.tensorflow.org/images/tutorials/transformer/multi_head_attention.png\" width=\"500\" alt=\"multi-head attention\">"
   ]
  },
  {
   "cell_type": "markdown",
   "metadata": {},
   "source": [
    "###  구조\n",
    "\n",
    "Multi head attention 은 4개의 파트로 구성되어 있습니다.\n",
    "*    Linear layers and split into heads.\n",
    "*    Scaled dot-product attention.\n",
    "*    Concatenation of heads.\n",
    "*    Final linear layer."
   ]
  },
  {
   "cell_type": "markdown",
   "metadata": {},
   "source": [
    "### 개념\n",
    "\n",
    "각각의 multi head attention 블럭은 3개의 입력값 ( Q K V ) 를 갖습니다. 이 값들은 Linear (Dense) layer 를 통해 들어가고, multi head 갯수만큼 나눠집니다.\n",
    "\n",
    "`Scaled Dot Product Attention `은 각각의 head 에 적용됩니다. (효율성을 위해 broadcasted 됨). 적합한 `mask` 가 attention step 에 반드시 적용되어야 합니다. 각각의 attention output 값이 하나로 붙여져 마지막 `Dense Layer` 로 갑니다. (Concatenated)\n",
    "\n",
    "한개의 attention head 를 쓰는 대신 여러개로 나누는 이유는, 여러개로 나눠서 행했을때 다른 표현 공간의 다른 위치에, 다양하게 집중할 수 있게 하기 때문입니다. 각 head를 나누는 것은 차원수를 낮춰 주기 때문에, 하나의 attention head 에 기존 차원의 입력을 사용하는것과 계산량은 같습니다."
   ]
  },
  {
   "cell_type": "markdown",
   "metadata": {},
   "source": [
    "### 구현"
   ]
  },
  {
   "cell_type": "code",
   "execution_count": 26,
   "metadata": {
    "ExecuteTime": {
     "end_time": "2020-03-06T04:35:44.779632Z",
     "start_time": "2020-03-06T04:35:44.770630Z"
    }
   },
   "outputs": [],
   "source": [
    "class MultiHeadAttention(tf.keras.layers.Layer):\n",
    "    def __init__(self, d_model, num_heads):\n",
    "        super(MultiHeadAttention, self).__init__()\n",
    "        \n",
    "        self.num_heads = num_heads\n",
    "        self.d_model = d_model\n",
    "        \n",
    "        # Model 의 차원이 num_heads 로 나눠져야 제대로 나눠지므로 assert 함수 사용\n",
    "        assert d_model % self.num_heads == 0\n",
    "    \n",
    "        # 한개의 head 의 depth 계산\n",
    "        self.depth = d_model // self.num_heads\n",
    "        \n",
    "        # linear layer 정의\n",
    "        self.wq = tf.keras.layers.Dense(d_model)\n",
    "        self.wk = tf.keras.layers.Dense(d_model)\n",
    "        self.wv = tf.keras.layers.Dense(d_model)\n",
    "    \n",
    "        self.dense = tf.keras.layers.Dense(d_model)\n",
    "        \n",
    "    def split_heads(self, x, batch_size):\n",
    "        \"\"\"\n",
    "            마지막 차원을 (num_heads, depth) 로 나눕니다\n",
    "            값을 (batch_size, num_heads, seq_len, depth) 형태로 transpose 합니다.\n",
    "        \"\"\"\n",
    "        \n",
    "        x = tf.reshape(x, (batch_size, -1, self.num_heads, self.depth))\n",
    "        \n",
    "        return tf.transpose(x, perm=[0, 2, 1, 3])\n",
    "    \n",
    "    def call(self, v, k, q, mask):\n",
    "        batch_size = tf.shape(q)[0]\n",
    "    \n",
    "        q = self.wq(q)  # (batch_size, seq_len, d_model)\n",
    "        k = self.wk(k)  # (batch_size, seq_len, d_model)\n",
    "        v = self.wv(v)  # (batch_size, seq_len, d_model)\n",
    "    \n",
    "        q = self.split_heads(q, batch_size)  # (batch_size, num_heads, seq_len_q, depth)\n",
    "        k = self.split_heads(k, batch_size)  # (batch_size, num_heads, seq_len_k, depth)\n",
    "        v = self.split_heads(v, batch_size)  # (batch_size, num_heads, seq_len_v, depth)\n",
    "    \n",
    "        # scaled_attention.shape == (batch_size, num_heads, seq_len_q, depth)\n",
    "        # attention_weights.shape == (batch_size, num_heads, seq_len_q, seq_len_k)\n",
    "        \n",
    "        scaled_attention, attention_weights = scaled_dot_product_attention(q, k, v, mask)\n",
    "        \n",
    "        # concatenate 하기 위해 num_heads, depth 차원을 마지막으로\n",
    "        scaled_attention = tf.transpose(scaled_attention, perm=[0, 2, 1, 3])  # (batch_size, seq_len_q, num_heads, depth)\n",
    "\n",
    "        concat_attention = tf.reshape(scaled_attention, (batch_size, -1, self.d_model))  # (batch_size, seq_len_q, d_model)\n",
    "\n",
    "        output = self.dense(concat_attention)  # (batch_size, seq_len_q, d_model)\n",
    "        \n",
    "        return output, attention_weights"
   ]
  },
  {
   "cell_type": "markdown",
   "metadata": {},
   "source": [
    "### 테스트"
   ]
  },
  {
   "cell_type": "code",
   "execution_count": 27,
   "metadata": {
    "ExecuteTime": {
     "end_time": "2020-03-06T04:35:44.809667Z",
     "start_time": "2020-03-06T04:35:44.780631Z"
    }
   },
   "outputs": [
    {
     "data": {
      "text/plain": [
       "(TensorShape([1, 60, 512]), TensorShape([1, 8, 60, 60]))"
      ]
     },
     "execution_count": 27,
     "metadata": {},
     "output_type": "execute_result"
    }
   ],
   "source": [
    "temp_mha = MultiHeadAttention(d_model=512, num_heads=8)\n",
    "y = tf.random.uniform((1, 60, 512))  # (batch_size, encoder_sequence, d_model)\n",
    "out, attn = temp_mha(y, k=y, q=y, mask=None)\n",
    "out.shape, attn.shape"
   ]
  },
  {
   "cell_type": "markdown",
   "metadata": {},
   "source": [
    "## Point Wise Feed Forward network"
   ]
  },
  {
   "cell_type": "markdown",
   "metadata": {},
   "source": [
    "Point wise feed forward network 는 2개의 Fully Connected Layers 로 구성되어있음\n",
    "\n",
    "(point wise - 특정 값에 집중한?? 확인필요)"
   ]
  },
  {
   "cell_type": "code",
   "execution_count": 28,
   "metadata": {
    "ExecuteTime": {
     "end_time": "2020-03-06T04:35:44.814633Z",
     "start_time": "2020-03-06T04:35:44.810631Z"
    }
   },
   "outputs": [],
   "source": [
    "def point_wise_feed_forward_network(d_model, dff):\n",
    "    return tf.keras.Sequential([\n",
    "        tf.keras.layers.Dense(dff, activation='relu'),  # (batch_size, seq_len, dff)\n",
    "        tf.keras.layers.Dense(d_model)  # (batch_size, seq_len, d_model)\n",
    "    ])"
   ]
  },
  {
   "cell_type": "code",
   "execution_count": 29,
   "metadata": {
    "ExecuteTime": {
     "end_time": "2020-03-06T04:35:44.844642Z",
     "start_time": "2020-03-06T04:35:44.815632Z"
    }
   },
   "outputs": [
    {
     "data": {
      "text/plain": [
       "TensorShape([64, 50, 512])"
      ]
     },
     "execution_count": 29,
     "metadata": {},
     "output_type": "execute_result"
    }
   ],
   "source": [
    "sample_ffn = point_wise_feed_forward_network(512, 2048)\n",
    "sample_ffn(tf.random.uniform((64, 50, 512))).shape"
   ]
  },
  {
   "cell_type": "markdown",
   "metadata": {},
   "source": [
    "## Encoder / Decoder"
   ]
  },
  {
   "cell_type": "markdown",
   "metadata": {},
   "source": [
    "<img src=\"https://www.tensorflow.org/images/tutorials/transformer/transformer.png\" width=\"600\" alt=\"transformer\">"
   ]
  },
  {
   "cell_type": "markdown",
   "metadata": {},
   "source": [
    "### 기본 구조\n",
    "\n",
    "Transformer 의 구조는 기존의 일반적인 Sequence to Sequence 구조와 같습니다.\n",
    "\n",
    "- 입력된 문장은 N 개의 인코더 레이어를 지나 각각 토큰에 대해  output 시퀀스를 만듭니다.\n",
    "- 인코더의 output 과 self-attention 을 통해 다음 단어를 예측합니다."
   ]
  },
  {
   "cell_type": "markdown",
   "metadata": {},
   "source": [
    "### 인코더 레이어\n",
    "\n",
    "각각의 인코더 레이어는 하위 레이어들(sub layers) 로 이루어 집니다.\n",
    "\n",
    "1. Multi Head Attention\n",
    "2. Point wise Feed Forward networks\n",
    "\n",
    "이 하위레이어들은 layer normalization 이 따라오는 잔여 연결(residual connection) 을 가지고 있습니다. 이 잔여 연결은 Vaninshing Gradient 문제를 피하는데 도움을 줍니다.\n",
    "\n",
    "각 하위 레이어들의 출력값은 `LayerNorm(x + Sublayer(x))` 입니다. Normalization 은 마지막 axis 에 적용됩니다.N 은 Transformer 의 인코더 개수 입니다."
   ]
  },
  {
   "cell_type": "markdown",
   "metadata": {},
   "source": [
    "#### Residual Connection (Skip Connection)\n",
    "\n",
    "<img src =\"https://upload.wikimedia.org/wikipedia/commons/thumb/5/5f/ResNets.svg/220px-ResNets.svg.png\">\n",
    "\n",
    "https://en.wikipedia.org/wiki/Residual_neural_network\n",
    "\n",
    "Skip Connection 이라고 주로 불리는 방법. 몇개의 layer 들을 무시하고 다음 layer로 넘어가서 vanishing gradient 문제를 해결"
   ]
  },
  {
   "cell_type": "markdown",
   "metadata": {},
   "source": [
    "#### 인코더 레이어 구현"
   ]
  },
  {
   "cell_type": "code",
   "execution_count": 30,
   "metadata": {
    "ExecuteTime": {
     "end_time": "2020-03-06T04:35:44.852630Z",
     "start_time": "2020-03-06T04:35:44.845667Z"
    }
   },
   "outputs": [],
   "source": [
    "class EncoderLayer(tf.keras.layers.Layer):\n",
    "    def __init__(self, d_model, num_heads, dff, rate=0.1):\n",
    "        super(EncoderLayer, self).__init__()\n",
    "\n",
    "        self.mha = MultiHeadAttention(d_model, num_heads)\n",
    "        self.ffn = point_wise_feed_forward_network(d_model, dff)\n",
    "\n",
    "        self.layernorm1 = tf.keras.layers.LayerNormalization(epsilon=1e-6)\n",
    "        self.layernorm2 = tf.keras.layers.LayerNormalization(epsilon=1e-6)\n",
    "    \n",
    "        self.dropout1 = tf.keras.layers.Dropout(rate)\n",
    "        self.dropout2 = tf.keras.layers.Dropout(rate)\n",
    "    \n",
    "    def call(self, x, training, mask):\n",
    "        \n",
    "        attn_output, _ = self.mha(x, x, x, mask)  # (batch_size, input_seq_len, d_model)\n",
    "        attn_output = self.dropout1(attn_output, training=training)\n",
    "        \n",
    "        # Skip Connection\n",
    "        out1 = self.layernorm1(x + attn_output)  # (batch_size, input_seq_len, d_model)\n",
    "    \n",
    "        ffn_output = self.ffn(out1)  # (batch_size, input_seq_len, d_model)\n",
    "        ffn_output = self.dropout2(ffn_output, training=training)\n",
    "        \n",
    "        # Skip Connection\n",
    "        out2 = self.layernorm2(out1 + ffn_output)  # (batch_size, input_seq_len, d_model)\n",
    "    \n",
    "        return out2"
   ]
  },
  {
   "cell_type": "markdown",
   "metadata": {},
   "source": [
    "#### 인코더 레이어 테스트"
   ]
  },
  {
   "cell_type": "code",
   "execution_count": 31,
   "metadata": {
    "ExecuteTime": {
     "end_time": "2020-03-06T04:35:44.908630Z",
     "start_time": "2020-03-06T04:35:44.853631Z"
    }
   },
   "outputs": [
    {
     "data": {
      "text/plain": [
       "TensorShape([64, 43, 512])"
      ]
     },
     "execution_count": 31,
     "metadata": {},
     "output_type": "execute_result"
    }
   ],
   "source": [
    "sample_encoder_layer = EncoderLayer(512, 8, 2048)\n",
    "\n",
    "sample_encoder_layer_output = sample_encoder_layer(tf.random.uniform((64, 43, 512)), False, None)\n",
    "\n",
    "sample_encoder_layer_output.shape  # (batch_size, input_seq_len, d_model)"
   ]
  },
  {
   "cell_type": "markdown",
   "metadata": {},
   "source": [
    "### 디코더 레이어\n",
    "\n",
    "각각의 디코더 레이어는 하위 레이어들(sub layers) 로 이루어 집니다.\n",
    "\n",
    "1. Masked Multi Head Attention (with `look ahead mask` and `padding mask`)\n",
    "2. Multi Head Attention (with `padding mask`)\n",
    "    - V, K 는 인코더의 리턴값을 디코더의 입력값으로 사용\n",
    "    - Q 는 masked multi-head attention 으로부터 받음\n",
    "    \n",
    "    \n",
    "3. Point Wise Feed Forward Networks\n",
    "\n",
    "인코더와 마찬가지로 전부 Residual Connection 을 가지고 있습니다.\n",
    "\n",
    "인코더와 같은 개수의(N) 디코더로 구성됩니다.\n",
    "\n",
    "Q 를 디코더의 첫번째 attention 에서 받고, K 는 인코더의 리턴값에서 받으므로, Attention Weight 은 인코더의 리턴값을 기준으로 디코더 입력값의 중요도를 나타냅니다 = 디코더는 다음값을 예측할때, 인코더의 리턴값과 Self-Attention 리턴값을 사용합니다. \n",
    "\n"
   ]
  },
  {
   "cell_type": "markdown",
   "metadata": {},
   "source": [
    "####  디코더 레이어 구현"
   ]
  },
  {
   "cell_type": "code",
   "execution_count": 32,
   "metadata": {
    "ExecuteTime": {
     "end_time": "2020-03-06T04:35:44.916630Z",
     "start_time": "2020-03-06T04:35:44.909630Z"
    }
   },
   "outputs": [],
   "source": [
    "class DecoderLayer(tf.keras.layers.Layer):\n",
    "    def __init__(self, d_model, num_heads, dff, rate=0.1):\n",
    "        super(DecoderLayer, self).__init__()\n",
    "\n",
    "        self.mha1 = MultiHeadAttention(d_model, num_heads)\n",
    "        self.mha2 = MultiHeadAttention(d_model, num_heads)\n",
    "\n",
    "        self.ffn = point_wise_feed_forward_network(d_model, dff)\n",
    " \n",
    "        self.layernorm1 = tf.keras.layers.LayerNormalization(epsilon=1e-6)\n",
    "        self.layernorm2 = tf.keras.layers.LayerNormalization(epsilon=1e-6)\n",
    "        self.layernorm3 = tf.keras.layers.LayerNormalization(epsilon=1e-6)\n",
    "    \n",
    "        self.dropout1 = tf.keras.layers.Dropout(rate)\n",
    "        self.dropout2 = tf.keras.layers.Dropout(rate)\n",
    "        self.dropout3 = tf.keras.layers.Dropout(rate)\n",
    "    \n",
    "    \n",
    "    def call(self, x, enc_output, training, look_ahead_mask, padding_mask):\n",
    "    \n",
    "        # enc_output.shape == (batch_size, input_seq_len, d_model)\n",
    "    \n",
    "        # 첫 Masked Multi Head Attention Block\n",
    "        attn1, attn_weights_block1 = self.mha1(x, x, x, look_ahead_mask)  # (batch_size, target_seq_len, d_model)\n",
    "        attn1 = self.dropout1(attn1, training=training)\n",
    "        out1 = self.layernorm1(attn1 + x)\n",
    "    \n",
    "        # 다음 Multi Head Attention Block\n",
    "        attn2, attn_weights_block2 = self.mha2(enc_output, enc_output, out1, padding_mask)  # (batch_size, target_seq_len, d_model)\n",
    "        attn2 = self.dropout2(attn2, training=training)\n",
    "        out2 = self.layernorm2(attn2 + out1)  # (batch_size, target_seq_len, d_model)\n",
    "    \n",
    "        # 마지막 Feed Forward \n",
    "        ffn_output = self.ffn(out2)  # (batch_size, target_seq_len, d_model)\n",
    "        ffn_output = self.dropout3(ffn_output, training=training)\n",
    "        out3 = self.layernorm3(ffn_output + out2)  # (batch_size, target_seq_len, d_model)\n",
    "    \n",
    "        return out3, attn_weights_block1, attn_weights_block2"
   ]
  },
  {
   "cell_type": "markdown",
   "metadata": {},
   "source": [
    "#### 디코더 레이어 테스트"
   ]
  },
  {
   "cell_type": "code",
   "execution_count": 33,
   "metadata": {
    "ExecuteTime": {
     "end_time": "2020-03-06T04:35:44.998630Z",
     "start_time": "2020-03-06T04:35:44.917630Z"
    }
   },
   "outputs": [
    {
     "data": {
      "text/plain": [
       "TensorShape([64, 50, 512])"
      ]
     },
     "execution_count": 33,
     "metadata": {},
     "output_type": "execute_result"
    }
   ],
   "source": [
    "sample_decoder_layer = DecoderLayer(512, 8, 2048)\n",
    "\n",
    "sample_decoder_layer_output, _, _ = sample_decoder_layer(\n",
    "    tf.random.uniform((64, 50, 512)), sample_encoder_layer_output, False, None, None)\n",
    "\n",
    "sample_decoder_layer_output.shape  # (batch_size, target_seq_len, d_model)"
   ]
  },
  {
   "cell_type": "markdown",
   "metadata": {},
   "source": [
    "### 인코더\n",
    "\n",
    "인코더는 3가지로 구성되어 있습니다.\n",
    "\n",
    "1. Input Embedding\n",
    "2. Positional Encoding\n",
    "3. N Encoder layers\n",
    "\n",
    "임베딩 값과 Positional Encoding 값을 더해서 Encoder Layer의 입력값으로 사용합니다."
   ]
  },
  {
   "cell_type": "markdown",
   "metadata": {},
   "source": [
    "#### 인코더 구현"
   ]
  },
  {
   "cell_type": "code",
   "execution_count": 34,
   "metadata": {
    "ExecuteTime": {
     "end_time": "2020-03-06T04:35:45.006632Z",
     "start_time": "2020-03-06T04:35:44.999630Z"
    }
   },
   "outputs": [],
   "source": [
    "class Encoder(tf.keras.layers.Layer):\n",
    "    def __init__(self, num_layers, d_model, num_heads, dff, input_vocab_size,\n",
    "                   maximum_position_encoding, rate=0.1):\n",
    "        super(Encoder, self).__init__()\n",
    "\n",
    "        self.d_model = d_model\n",
    "        self.num_layers = num_layers\n",
    "    \n",
    "        self.embedding = tf.keras.layers.Embedding(input_vocab_size, d_model)\n",
    "        self.pos_encoding = positional_encoding(maximum_position_encoding, \n",
    "                                                self.d_model)\n",
    "    \n",
    "    \n",
    "        self.enc_layers = [EncoderLayer(d_model, num_heads, dff, rate) \n",
    "                           for _ in range(num_layers)]\n",
    "  \n",
    "        self.dropout = tf.keras.layers.Dropout(rate)\n",
    "        \n",
    "    def call(self, x, training, mask):\n",
    "\n",
    "        seq_len = tf.shape(x)[1]\n",
    "    \n",
    "        # Embedding + Positional Encoding\n",
    "        x = self.embedding(x)  # (batch_size, input_seq_len, d_model)\n",
    "        x *= tf.math.sqrt(tf.cast(self.d_model, tf.float32))\n",
    "        x += self.pos_encoding[:, :seq_len, :]\n",
    "\n",
    "        x = self.dropout(x, training=training)\n",
    "    \n",
    "        for i in range(self.num_layers):\n",
    "            x = self.enc_layers[i](x, training, mask)\n",
    "    \n",
    "        return x  # (batch_size, input_seq_len, d_model)"
   ]
  },
  {
   "cell_type": "markdown",
   "metadata": {},
   "source": [
    "#### 인코더 테스트"
   ]
  },
  {
   "cell_type": "code",
   "execution_count": 35,
   "metadata": {
    "ExecuteTime": {
     "end_time": "2020-03-06T04:35:45.251675Z",
     "start_time": "2020-03-06T04:35:45.008631Z"
    }
   },
   "outputs": [
    {
     "name": "stdout",
     "output_type": "stream",
     "text": [
      "(64, 62, 512)\n"
     ]
    }
   ],
   "source": [
    "sample_encoder = Encoder(num_layers=2, d_model=512, num_heads=8, \n",
    "                         dff=2048, input_vocab_size=8500,\n",
    "                         maximum_position_encoding=10000)\n",
    "temp_input = tf.random.uniform((64, 62), dtype=tf.int64, minval=0, maxval=200)\n",
    "\n",
    "sample_encoder_output = sample_encoder(temp_input, training=False, mask=None)\n",
    "\n",
    "print (sample_encoder_output.shape)  # (batch_size, input_seq_len, d_model)"
   ]
  },
  {
   "cell_type": "markdown",
   "metadata": {},
   "source": [
    "### 디코더\n",
    "\n",
    "디코더는 3가지로 구성되어 있습니다.\n",
    "\n",
    "1. Output Embedding\n",
    "2. Positional Encoding\n",
    "3. N Decoder layers\n",
    "\n",
    "임베딩 값과 Positional Encoding 값을 더해서 Encoder Layer의 입력값으로 사용합니다."
   ]
  },
  {
   "cell_type": "markdown",
   "metadata": {},
   "source": [
    "#### 디코더 구현"
   ]
  },
  {
   "cell_type": "code",
   "execution_count": 36,
   "metadata": {
    "ExecuteTime": {
     "end_time": "2020-03-06T04:35:45.261632Z",
     "start_time": "2020-03-06T04:35:45.252631Z"
    }
   },
   "outputs": [],
   "source": [
    "class Decoder(tf.keras.layers.Layer):\n",
    "    def __init__(self, num_layers, d_model, num_heads, dff, target_vocab_size,\n",
    "               maximum_position_encoding, rate=0.1):\n",
    "        super(Decoder, self).__init__()\n",
    "\n",
    "        self.d_model = d_model\n",
    "        self.num_layers = num_layers\n",
    "    \n",
    "        self.embedding = tf.keras.layers.Embedding(target_vocab_size, d_model)\n",
    "        self.pos_encoding = positional_encoding(maximum_position_encoding, d_model)\n",
    "    \n",
    "        self.dec_layers = [DecoderLayer(d_model, num_heads, dff, rate) \n",
    "                           for _ in range(num_layers)]\n",
    "        self.dropout = tf.keras.layers.Dropout(rate)\n",
    "    \n",
    "    def call(self, x, enc_output, training, look_ahead_mask, padding_mask):\n",
    "\n",
    "        seq_len = tf.shape(x)[1]\n",
    "        attention_weights = {}\n",
    "        \n",
    "        # Embedding + Positional Encoding\n",
    "        x = self.embedding(x)  # (batch_size, target_seq_len, d_model)\n",
    "        x *= tf.math.sqrt(tf.cast(self.d_model, tf.float32))\n",
    "        x += self.pos_encoding[:, :seq_len, :]\n",
    "    \n",
    "        x = self.dropout(x, training=training)\n",
    "        \n",
    "        # Decoding Layers\n",
    "        for i in range(self.num_layers):\n",
    "            x, block1, block2 = self.dec_layers[i](x, enc_output, training, look_ahead_mask, padding_mask)\n",
    "      \n",
    "            attention_weights['decoder_layer{}_block1'.format(i+1)] = block1\n",
    "            attention_weights['decoder_layer{}_block2'.format(i+1)] = block2\n",
    "    \n",
    "        # x.shape == (batch_size, target_seq_len, d_model)\n",
    "        return x, attention_weights"
   ]
  },
  {
   "cell_type": "markdown",
   "metadata": {},
   "source": [
    "#### 디코더 테스트"
   ]
  },
  {
   "cell_type": "code",
   "execution_count": 37,
   "metadata": {
    "ExecuteTime": {
     "end_time": "2020-03-06T04:35:45.553669Z",
     "start_time": "2020-03-06T04:35:45.262633Z"
    }
   },
   "outputs": [
    {
     "data": {
      "text/plain": [
       "(TensorShape([64, 26, 512]), TensorShape([64, 8, 26, 62]))"
      ]
     },
     "execution_count": 37,
     "metadata": {},
     "output_type": "execute_result"
    }
   ],
   "source": [
    "sample_decoder = Decoder(num_layers=2, d_model=512, num_heads=8, \n",
    "                         dff=2048, target_vocab_size=8000,\n",
    "                         maximum_position_encoding=5000)\n",
    "temp_input = tf.random.uniform((64, 26), dtype=tf.int64, minval=0, maxval=200)\n",
    "\n",
    "output, attn = sample_decoder(temp_input, \n",
    "                              enc_output=sample_encoder_output, \n",
    "                              training=False,\n",
    "                              look_ahead_mask=None, \n",
    "                              padding_mask=None)\n",
    "\n",
    "output.shape, attn['decoder_layer2_block2'].shape"
   ]
  },
  {
   "cell_type": "markdown",
   "metadata": {},
   "source": [
    "## Transformer\n",
    "\n",
    "트랜스포머는 Encoder, Decoder, Final Linear Layer 로 구성됩니다."
   ]
  },
  {
   "cell_type": "markdown",
   "metadata": {},
   "source": [
    "### Transformer 구현"
   ]
  },
  {
   "cell_type": "code",
   "execution_count": 38,
   "metadata": {
    "ExecuteTime": {
     "end_time": "2020-03-06T04:35:45.563631Z",
     "start_time": "2020-03-06T04:35:45.554666Z"
    }
   },
   "outputs": [],
   "source": [
    "class Transformer(tf.keras.Model):\n",
    "    def __init__(self, num_layers, d_model, num_heads, dff, input_vocab_size, \n",
    "                target_vocab_size, pe_input, pe_target, rate=0.1):\n",
    "        super(Transformer, self).__init__()\n",
    "\n",
    "        self.encoder = Encoder(num_layers, d_model, num_heads, dff, input_vocab_size, pe_input, rate)\n",
    "\n",
    "        self.decoder = Decoder(num_layers, d_model, num_heads, dff, target_vocab_size, pe_target, rate)\n",
    "\n",
    "        self.final_layer = tf.keras.layers.Dense(target_vocab_size)\n",
    "    \n",
    "    def call(self, inp, tar, training, enc_padding_mask, look_ahead_mask, dec_padding_mask):\n",
    "\n",
    "        enc_output = self.encoder(inp, training, enc_padding_mask)  # (batch_size, inp_seq_len, d_model)\n",
    "    \n",
    "        # dec_output.shape == (batch_size, tar_seq_len, d_model)\n",
    "        dec_output, attention_weights = self.decoder(tar, enc_output, training, look_ahead_mask, dec_padding_mask)\n",
    "    \n",
    "        final_output = self.final_layer(dec_output)  # (batch_size, tar_seq_len, target_vocab_size)\n",
    "    \n",
    "        return final_output, attention_weights"
   ]
  },
  {
   "cell_type": "markdown",
   "metadata": {},
   "source": [
    "### Transformer Test"
   ]
  },
  {
   "cell_type": "code",
   "execution_count": 39,
   "metadata": {
    "ExecuteTime": {
     "end_time": "2020-03-06T04:35:46.035634Z",
     "start_time": "2020-03-06T04:35:45.564631Z"
    }
   },
   "outputs": [
    {
     "data": {
      "text/plain": [
       "TensorShape([64, 36, 8000])"
      ]
     },
     "execution_count": 39,
     "metadata": {},
     "output_type": "execute_result"
    }
   ],
   "source": [
    "sample_transformer = Transformer(\n",
    "    num_layers=2, d_model=512, num_heads=8, dff=2048, \n",
    "    input_vocab_size=8500, target_vocab_size=8000, \n",
    "    pe_input=10000, pe_target=6000)\n",
    "\n",
    "temp_input = tf.random.uniform((64, 38), dtype=tf.int64, minval=0, maxval=200)\n",
    "temp_target = tf.random.uniform((64, 36), dtype=tf.int64, minval=0, maxval=200)\n",
    "\n",
    "fn_out, _ = sample_transformer(temp_input, temp_target, training=False, \n",
    "                               enc_padding_mask=None, \n",
    "                               look_ahead_mask=None,\n",
    "                               dec_padding_mask=None)\n",
    "\n",
    "fn_out.shape  # (batch_size, tar_seq_len, target_vocab_size)"
   ]
  },
  {
   "cell_type": "markdown",
   "metadata": {},
   "source": [
    "### Hyper Parameter\n",
    "\n",
    "기본 Base Transformer 는\n",
    "\n",
    "- num_layers = 6\n",
    "- d_model = 512\n",
    "- dff = 2048\n",
    "- num_heads = 8\n",
    "\n",
    "를 사용했지만, 빠른 학습을 위해 작은 파라미터 사용가능합니다."
   ]
  },
  {
   "cell_type": "code",
   "execution_count": 40,
   "metadata": {
    "ExecuteTime": {
     "end_time": "2020-03-06T04:35:46.040636Z",
     "start_time": "2020-03-06T04:35:46.036671Z"
    }
   },
   "outputs": [],
   "source": [
    "num_layers = 4\n",
    "d_model = 128\n",
    "dff = 512\n",
    "num_heads = 8\n",
    "\n",
    "EPOCHS = 20\n",
    "\n",
    "input_vocab_size = tokenizer_pt.vocab_size + 2\n",
    "target_vocab_size = tokenizer_en.vocab_size + 2\n",
    "dropout_rate = 0.1"
   ]
  },
  {
   "cell_type": "markdown",
   "metadata": {},
   "source": [
    "### Optimizer with Custom Schedule\n",
    "\n",
    "기본적으로 Adam Optimizer 를 사용했는데, learning rate 를 아래 수식에 따라 변화시켰습니다.\n",
    "\n",
    "처음 학습하는 동안을 warm up 시기로 보고 linear 하게 learning rate 를 증가시켰고, warm up 이 끝나면 학습 횟수의 역제곱근만큼 감소시켰습니다.\n",
    "\n",
    "\n",
    "$$\\Large{lrate = d_{model}^{-0.5} * min(step{\\_}num^{-0.5}, step{\\_}num * warmup{\\_}steps^{-1.5})}$$"
   ]
  },
  {
   "cell_type": "code",
   "execution_count": 41,
   "metadata": {
    "ExecuteTime": {
     "end_time": "2020-03-06T04:35:46.048631Z",
     "start_time": "2020-03-06T04:35:46.041676Z"
    }
   },
   "outputs": [],
   "source": [
    "class CustomSchedule(tf.keras.optimizers.schedules.LearningRateSchedule):\n",
    "    def __init__(self, d_model, warmup_steps=4000):\n",
    "        super(CustomSchedule, self).__init__()\n",
    "    \n",
    "        self.d_model = d_model\n",
    "        self.d_model = tf.cast(self.d_model, tf.float32)\n",
    "\n",
    "        self.warmup_steps = warmup_steps\n",
    "    \n",
    "    def __call__(self, step):\n",
    "        arg1 = tf.math.rsqrt(step)\n",
    "        arg2 = step * (self.warmup_steps ** -1.5)\n",
    "    \n",
    "        return tf.math.rsqrt(self.d_model) * tf.math.minimum(arg1, arg2)"
   ]
  },
  {
   "cell_type": "code",
   "execution_count": 42,
   "metadata": {
    "ExecuteTime": {
     "end_time": "2020-03-06T04:35:46.061632Z",
     "start_time": "2020-03-06T04:35:46.049631Z"
    }
   },
   "outputs": [],
   "source": [
    "learning_rate = CustomSchedule(d_model)\n",
    "\n",
    "optimizer = tf.keras.optimizers.Adam(learning_rate, beta_1=0.9, beta_2=0.98, epsilon=1e-9)"
   ]
  },
  {
   "cell_type": "markdown",
   "metadata": {},
   "source": [
    "learning rate가 어떻게 변하는지 그래프로 표현하면 아래와 같습니다."
   ]
  },
  {
   "cell_type": "code",
   "execution_count": 43,
   "metadata": {
    "ExecuteTime": {
     "end_time": "2020-03-06T04:35:46.188630Z",
     "start_time": "2020-03-06T04:35:46.062674Z"
    }
   },
   "outputs": [
    {
     "data": {
      "text/plain": [
       "Text(0.5, 0, 'Train Step')"
      ]
     },
     "execution_count": 43,
     "metadata": {},
     "output_type": "execute_result"
    },
    {
     "data": {
      "image/png": "[encoded data removed]",
      "text/plain": [
       "<Figure size 432x288 with 1 Axes>"
      ]
     },
     "metadata": {
      "needs_background": "light"
     },
     "output_type": "display_data"
    }
   ],
   "source": [
    "temp_learning_rate_schedule = CustomSchedule(d_model)\n",
    "\n",
    "plt.plot(temp_learning_rate_schedule(tf.range(40000, dtype=tf.float32)))\n",
    "plt.ylabel(\"Learning Rate\")\n",
    "plt.xlabel(\"Train Step\")"
   ]
  },
  {
   "cell_type": "markdown",
   "metadata": {},
   "source": [
    "### Loss, Metrics\n",
    "\n",
    "입력값에 Padding 이 포함되었기 때문에, padding mask 를 적용해야 제대로 loss 계산이 되어 제대로 학습이 가능합니다."
   ]
  },
  {
   "cell_type": "markdown",
   "metadata": {},
   "source": [
    "`from_logits`\n",
    "- False 일 경우, prediction 에 [0,1] 확률이 포함되었다고 가정합니다\n",
    "- True 일 경우, 수치적으로 더욱 안정적이 됩니다."
   ]
  },
  {
   "cell_type": "code",
   "execution_count": 44,
   "metadata": {
    "ExecuteTime": {
     "end_time": "2020-03-06T04:35:46.192632Z",
     "start_time": "2020-03-06T04:35:46.189630Z"
    }
   },
   "outputs": [],
   "source": [
    "loss_object = tf.keras.losses.SparseCategoricalCrossentropy(from_logits=True, reduction='none')"
   ]
  },
  {
   "cell_type": "code",
   "execution_count": 45,
   "metadata": {
    "ExecuteTime": {
     "end_time": "2020-03-06T04:35:46.199631Z",
     "start_time": "2020-03-06T04:35:46.193631Z"
    }
   },
   "outputs": [],
   "source": [
    "def loss_function(real, pred):\n",
    "    \n",
    "    # Mask 를 씌웁니다\n",
    "    # tf.math.equal : 실제값이 0과 같은지 확인합니다\n",
    "    # tf.math.logical_not : Boolean 으로 not 을 적용합니다.\n",
    "    # -> 정답이 아닌 값에 False, 맞으면 True 로 masking\n",
    "    # ex) real = [ 'this', 'is', 'a', 'dog' ] -> [0,0,0,1] (dog가 정답일때 real 값)\n",
    "\n",
    "    mask = tf.math.logical_not(tf.math.equal(real, 0))\n",
    "    \n",
    "    # loss 계산\n",
    "    loss_ = loss_object(real, pred)\n",
    "    \n",
    "    mask = tf.cast(mask, dtype=loss_.dtype)\n",
    "    \n",
    "    # loss 값에 mask 를 곱하면 padding 에 적용된 loss 값은 사라지고 true 와 관련된 loss 값만 남음\n",
    "    loss_ *= mask\n",
    "    \n",
    "    # print mean of loss\n",
    "    return tf.reduce_mean(loss_)"
   ]
  },
  {
   "cell_type": "code",
   "execution_count": 46,
   "metadata": {
    "ExecuteTime": {
     "end_time": "2020-03-06T04:35:46.212631Z",
     "start_time": "2020-03-06T04:35:46.200630Z"
    }
   },
   "outputs": [],
   "source": [
    "train_loss = tf.keras.metrics.Mean(name='train_loss')\n",
    "train_accuracy = tf.keras.metrics.SparseCategoricalAccuracy(name='train_accuracy')"
   ]
  },
  {
   "cell_type": "markdown",
   "metadata": {},
   "source": [
    "### Training"
   ]
  },
  {
   "cell_type": "code",
   "execution_count": 47,
   "metadata": {
    "ExecuteTime": {
     "end_time": "2020-03-06T04:35:46.307630Z",
     "start_time": "2020-03-06T04:35:46.213631Z"
    }
   },
   "outputs": [],
   "source": [
    "# 모델 정의\n",
    "transformer = Transformer(num_layers, d_model, num_heads, dff,\n",
    "                          input_vocab_size, target_vocab_size, \n",
    "                          pe_input=input_vocab_size, \n",
    "                          pe_target=target_vocab_size,\n",
    "                          rate=dropout_rate)"
   ]
  },
  {
   "cell_type": "code",
   "execution_count": 48,
   "metadata": {
    "ExecuteTime": {
     "end_time": "2020-03-06T04:35:46.313632Z",
     "start_time": "2020-03-06T04:35:46.309632Z"
    }
   },
   "outputs": [],
   "source": [
    "def create_masks(inp, tar):\n",
    "    # 인코더 padding mask\n",
    "    enc_padding_mask = create_padding_mask(inp)\n",
    "  \n",
    "    # 디코더 2번째 Attention Block 에서 사용되는 padding mask\n",
    "    # 이 padding mask 는 인코더 output 을 masking 하는데 사용됨\n",
    "    dec_padding_mask = create_padding_mask(inp)\n",
    "  \n",
    "    # 디코더의 첫번째 Attention Block 에서 사용되는 look ahead mask\n",
    "    # 디코더에서 들어온 값에 대해, 현재 보는 값 이후값들을 mask\n",
    "    look_ahead_mask = create_look_ahead_mask(tf.shape(tar)[1])\n",
    "    dec_target_padding_mask = create_padding_mask(tar)\n",
    "    combined_mask = tf.maximum(dec_target_padding_mask, look_ahead_mask)\n",
    "  \n",
    "    return enc_padding_mask, combined_mask, dec_padding_mask"
   ]
  },
  {
   "cell_type": "code",
   "execution_count": 49,
   "metadata": {
    "ExecuteTime": {
     "end_time": "2020-03-06T04:35:46.322631Z",
     "start_time": "2020-03-06T04:35:46.315634Z"
    }
   },
   "outputs": [],
   "source": [
    "# @tf.functtion 은 train_step 을 TF graph 에서 더 빠르게 실행되게 도와줍니다.\n",
    "# 시퀀스 길이나 배치사이즈(마지막 배치는 크기가 더 작을 수 있음) \n",
    "# 때문에 다시 생성되는것을 방지하기위해 input_signature 에 shape 을 지정해줍니다.\n",
    "\n",
    "# input, target shape 지정\n",
    "train_step_signature = [\n",
    "    tf.TensorSpec(shape=(None, None), dtype=tf.int64),\n",
    "    tf.TensorSpec(shape=(None, None), dtype=tf.int64),\n",
    "]\n",
    "\n",
    "@tf.function(input_signature=train_step_signature)\n",
    "def train_step(inp, tar):\n",
    "    tar_inp = tar[:, :-1]\n",
    "    tar_real = tar[:, 1:]\n",
    "      \n",
    "    # mask 생성\n",
    "    enc_padding_mask, combined_mask, dec_padding_mask = create_masks(inp, tar_inp)\n",
    "  \n",
    "    with tf.GradientTape() as tape:\n",
    "        predictions, _ = transformer(inp, tar_inp, \n",
    "                                     True, \n",
    "                                     enc_padding_mask, \n",
    "                                     combined_mask, \n",
    "                                     dec_padding_mask)\n",
    "        \n",
    "        loss = loss_function(tar_real, predictions)\n",
    "\n",
    "    gradients = tape.gradient(loss, transformer.trainable_variables)    \n",
    "    optimizer.apply_gradients(zip(gradients, transformer.trainable_variables))\n",
    "    \n",
    "    # Mean / SparseCrossEntropyAccuracy\n",
    "    train_loss(loss)\n",
    "    train_accuracy(tar_real, predictions)"
   ]
  },
  {
   "cell_type": "code",
   "execution_count": 50,
   "metadata": {
    "ExecuteTime": {
     "end_time": "2020-03-06T04:35:46.331631Z",
     "start_time": "2020-03-06T04:35:46.324632Z"
    }
   },
   "outputs": [
    {
     "data": {
      "text/plain": [
       "\"\\nif ckpt_manager.latest_checkpoint:\\n  ckpt.restore(ckpt_manager.latest_checkpoint)\\n  print ('Latest checkpoint restored!!')\\n\""
      ]
     },
     "execution_count": 50,
     "metadata": {},
     "output_type": "execute_result"
    }
   ],
   "source": [
    "# 체크포인트\n",
    "checkpoint_path = \"./checkpoints/train\"\n",
    "\n",
    "ckpt = tf.train.Checkpoint(transformer=transformer,\n",
    "                           optimizer=optimizer)\n",
    "\n",
    "ckpt_manager = tf.train.CheckpointManager(ckpt, checkpoint_path, max_to_keep=5)\n",
    "\n",
    "# if a checkpoint exists, restore the latest checkpoint.\n",
    "\n",
    "'''\n",
    "if ckpt_manager.latest_checkpoint:\n",
    "  ckpt.restore(ckpt_manager.latest_checkpoint)\n",
    "  print ('Latest checkpoint restored!!')\n",
    "'''"
   ]
  },
  {
   "cell_type": "code",
   "execution_count": 51,
   "metadata": {
    "ExecuteTime": {
     "end_time": "2020-03-06T04:52:29.719209Z",
     "start_time": "2020-03-06T04:35:46.332630Z"
    }
   },
   "outputs": [
    {
     "name": "stdout",
     "output_type": "stream",
     "text": [
      "Epoch 1 Batch 0 Loss 3.9219 Accuracy 0.0002\n",
      "Epoch 1 Batch 50 Loss 4.1187 Accuracy 0.0012\n",
      "Epoch 1 Batch 100 Loss 4.0654 Accuracy 0.0110\n",
      "Epoch 1 Batch 150 Loss 4.0157 Accuracy 0.0155\n",
      "Epoch 1 Batch 200 Loss 3.9621 Accuracy 0.0187\n",
      "Epoch 1 Batch 250 Loss 3.8778 Accuracy 0.0242\n",
      "Epoch 1 Batch 300 Loss 3.7922 Accuracy 0.0284\n",
      "Epoch 1 Batch 350 Loss 3.7080 Accuracy 0.0317\n",
      "Epoch 1 Loss 3.7061 Accuracy 0.0318\n",
      "Time taken for 1 epoch: 69.98854327201843 secs\n",
      "\n",
      "Epoch 2 Batch 0 Loss 3.0357 Accuracy 0.0517\n",
      "Epoch 2 Batch 50 Loss 3.0527 Accuracy 0.0562\n",
      "Epoch 2 Batch 100 Loss 3.0079 Accuracy 0.0584\n",
      "Epoch 2 Batch 150 Loss 2.9616 Accuracy 0.0626\n",
      "Epoch 2 Batch 200 Loss 2.9009 Accuracy 0.0673\n",
      "Epoch 2 Batch 250 Loss 2.8592 Accuracy 0.0716\n",
      "Epoch 2 Batch 300 Loss 2.8129 Accuracy 0.0754\n",
      "Epoch 2 Batch 350 Loss 2.7704 Accuracy 0.0791\n",
      "Epoch 2 Loss 2.7695 Accuracy 0.0791\n",
      "Time taken for 1 epoch: 48.993919134140015 secs\n",
      "\n",
      "Epoch 3 Batch 0 Loss 2.5139 Accuracy 0.1040\n",
      "Epoch 3 Batch 50 Loss 2.4727 Accuracy 0.1073\n",
      "Epoch 3 Batch 100 Loss 2.4254 Accuracy 0.1093\n",
      "Epoch 3 Batch 150 Loss 2.3991 Accuracy 0.1118\n",
      "Epoch 3 Batch 200 Loss 2.3778 Accuracy 0.1140\n",
      "Epoch 3 Batch 250 Loss 2.3555 Accuracy 0.1160\n",
      "Epoch 3 Batch 300 Loss 2.3338 Accuracy 0.1178\n",
      "Epoch 3 Batch 350 Loss 2.3195 Accuracy 0.1197\n",
      "Epoch 3 Loss 2.3197 Accuracy 0.1197\n",
      "Time taken for 1 epoch: 49.07602334022522 secs\n",
      "\n",
      "Epoch 4 Batch 0 Loss 2.2101 Accuracy 0.1334\n",
      "Epoch 4 Batch 50 Loss 2.1782 Accuracy 0.1347\n",
      "Epoch 4 Batch 100 Loss 2.1592 Accuracy 0.1359\n",
      "Epoch 4 Batch 150 Loss 2.1504 Accuracy 0.1371\n",
      "Epoch 4 Batch 200 Loss 2.1423 Accuracy 0.1383\n",
      "Epoch 4 Batch 250 Loss 2.1309 Accuracy 0.1390\n",
      "Epoch 4 Batch 300 Loss 2.1237 Accuracy 0.1402\n",
      "Epoch 4 Batch 350 Loss 2.1177 Accuracy 0.1411\n",
      "Epoch 4 Loss 2.1178 Accuracy 0.1411\n",
      "Time taken for 1 epoch: 49.11708903312683 secs\n",
      "\n",
      "Epoch 5 Batch 0 Loss 1.9039 Accuracy 0.1428\n",
      "Epoch 5 Batch 50 Loss 2.0282 Accuracy 0.1498\n",
      "Epoch 5 Batch 100 Loss 2.0090 Accuracy 0.1506\n",
      "Epoch 5 Batch 150 Loss 1.9998 Accuracy 0.1523\n",
      "Epoch 5 Batch 200 Loss 1.9880 Accuracy 0.1537\n",
      "Epoch 5 Batch 250 Loss 1.9795 Accuracy 0.1548\n",
      "Epoch 5 Batch 300 Loss 1.9677 Accuracy 0.1558\n",
      "Epoch 5 Batch 350 Loss 1.9598 Accuracy 0.1569\n",
      "Saving checkpoint for epoch 5 at ./checkpoints/train\\ckpt-1\n",
      "Epoch 5 Loss 1.9594 Accuracy 0.1569\n",
      "Time taken for 1 epoch: 49.776047468185425 secs\n",
      "\n",
      "Epoch 6 Batch 0 Loss 1.6945 Accuracy 0.1611\n",
      "Epoch 6 Batch 50 Loss 1.8358 Accuracy 0.1706\n",
      "Epoch 6 Batch 100 Loss 1.8245 Accuracy 0.1707\n",
      "Epoch 6 Batch 150 Loss 1.8170 Accuracy 0.1723\n",
      "Epoch 6 Batch 200 Loss 1.8107 Accuracy 0.1741\n",
      "Epoch 6 Batch 250 Loss 1.7962 Accuracy 0.1754\n",
      "Epoch 6 Batch 300 Loss 1.7883 Accuracy 0.1766\n",
      "Epoch 6 Batch 350 Loss 1.7793 Accuracy 0.1782\n",
      "Epoch 6 Loss 1.7796 Accuracy 0.1782\n",
      "Time taken for 1 epoch: 48.84136080741882 secs\n",
      "\n",
      "Epoch 7 Batch 0 Loss 1.5993 Accuracy 0.1813\n",
      "Epoch 7 Batch 50 Loss 1.6740 Accuracy 0.1928\n",
      "Epoch 7 Batch 100 Loss 1.6584 Accuracy 0.1946\n",
      "Epoch 7 Batch 150 Loss 1.6469 Accuracy 0.1954\n",
      "Epoch 7 Batch 200 Loss 1.6365 Accuracy 0.1963\n",
      "Epoch 7 Batch 250 Loss 1.6266 Accuracy 0.1972\n",
      "Epoch 7 Batch 300 Loss 1.6169 Accuracy 0.1983\n",
      "Epoch 7 Batch 350 Loss 1.6113 Accuracy 0.1993\n",
      "Epoch 7 Loss 1.6126 Accuracy 0.1993\n",
      "Time taken for 1 epoch: 48.80383563041687 secs\n",
      "\n",
      "Epoch 8 Batch 0 Loss 1.5276 Accuracy 0.2075\n",
      "Epoch 8 Batch 50 Loss 1.4930 Accuracy 0.2131\n",
      "Epoch 8 Batch 100 Loss 1.4831 Accuracy 0.2132\n",
      "Epoch 8 Batch 150 Loss 1.4725 Accuracy 0.2136\n",
      "Epoch 8 Batch 200 Loss 1.4658 Accuracy 0.2148\n",
      "Epoch 8 Batch 250 Loss 1.4611 Accuracy 0.2149\n",
      "Epoch 8 Batch 300 Loss 1.4564 Accuracy 0.2157\n",
      "Epoch 8 Batch 350 Loss 1.4494 Accuracy 0.2162\n",
      "Epoch 8 Loss 1.4490 Accuracy 0.2163\n",
      "Time taken for 1 epoch: 48.86922526359558 secs\n",
      "\n",
      "Epoch 9 Batch 0 Loss 1.1880 Accuracy 0.2196\n",
      "Epoch 9 Batch 50 Loss 1.3265 Accuracy 0.2278\n",
      "Epoch 9 Batch 100 Loss 1.3269 Accuracy 0.2298\n",
      "Epoch 9 Batch 150 Loss 1.3235 Accuracy 0.2308\n",
      "Epoch 9 Batch 200 Loss 1.3192 Accuracy 0.2310\n",
      "Epoch 9 Batch 250 Loss 1.3125 Accuracy 0.2313\n",
      "Epoch 9 Batch 300 Loss 1.3142 Accuracy 0.2320\n",
      "Epoch 9 Batch 350 Loss 1.3080 Accuracy 0.2324\n",
      "Epoch 9 Loss 1.3079 Accuracy 0.2324\n",
      "Time taken for 1 epoch: 49.45650124549866 secs\n",
      "\n",
      "Epoch 10 Batch 0 Loss 1.2224 Accuracy 0.2524\n",
      "Epoch 10 Batch 50 Loss 1.1892 Accuracy 0.2445\n",
      "Epoch 10 Batch 100 Loss 1.1923 Accuracy 0.2460\n",
      "Epoch 10 Batch 150 Loss 1.1891 Accuracy 0.2464\n",
      "Epoch 10 Batch 200 Loss 1.1852 Accuracy 0.2462\n",
      "Epoch 10 Batch 250 Loss 1.1855 Accuracy 0.2465\n",
      "Epoch 10 Batch 300 Loss 1.1873 Accuracy 0.2470\n",
      "Epoch 10 Batch 350 Loss 1.1861 Accuracy 0.2470\n",
      "Saving checkpoint for epoch 10 at ./checkpoints/train\\ckpt-2\n",
      "Epoch 10 Loss 1.1861 Accuracy 0.2470\n",
      "Time taken for 1 epoch: 49.32873201370239 secs\n",
      "\n",
      "Epoch 11 Batch 0 Loss 1.1006 Accuracy 0.2619\n",
      "Epoch 11 Batch 50 Loss 1.0791 Accuracy 0.2616\n",
      "Epoch 11 Batch 100 Loss 1.0779 Accuracy 0.2608\n",
      "Epoch 11 Batch 150 Loss 1.0800 Accuracy 0.2601\n",
      "Epoch 11 Batch 200 Loss 1.0820 Accuracy 0.2599\n",
      "Epoch 11 Batch 250 Loss 1.0819 Accuracy 0.2599\n",
      "Epoch 11 Batch 300 Loss 1.0854 Accuracy 0.2601\n",
      "Epoch 11 Batch 350 Loss 1.0844 Accuracy 0.2596\n",
      "Epoch 11 Loss 1.0846 Accuracy 0.2596\n",
      "Time taken for 1 epoch: 48.90296506881714 secs\n",
      "\n",
      "Epoch 12 Batch 0 Loss 0.9267 Accuracy 0.2669\n",
      "Epoch 12 Batch 50 Loss 0.9813 Accuracy 0.2708\n",
      "Epoch 12 Batch 100 Loss 1.0032 Accuracy 0.2711\n",
      "Epoch 12 Batch 150 Loss 0.9981 Accuracy 0.2700\n",
      "Epoch 12 Batch 200 Loss 1.0009 Accuracy 0.2701\n",
      "Epoch 12 Batch 250 Loss 0.9993 Accuracy 0.2697\n",
      "Epoch 12 Batch 300 Loss 1.0012 Accuracy 0.2695\n",
      "Epoch 12 Batch 350 Loss 1.0053 Accuracy 0.2695\n",
      "Epoch 12 Loss 1.0053 Accuracy 0.2696\n",
      "Time taken for 1 epoch: 49.30454087257385 secs\n",
      "\n",
      "Epoch 13 Batch 0 Loss 0.9048 Accuracy 0.2882\n",
      "Epoch 13 Batch 50 Loss 0.9044 Accuracy 0.2802\n",
      "Epoch 13 Batch 100 Loss 0.9037 Accuracy 0.2797\n",
      "Epoch 13 Batch 150 Loss 0.9082 Accuracy 0.2798\n",
      "Epoch 13 Batch 200 Loss 0.9138 Accuracy 0.2794\n",
      "Epoch 13 Batch 250 Loss 0.9153 Accuracy 0.2794\n",
      "Epoch 13 Batch 300 Loss 0.9175 Accuracy 0.2795\n",
      "Epoch 13 Batch 350 Loss 0.9223 Accuracy 0.2796\n",
      "Epoch 13 Loss 0.9227 Accuracy 0.2796\n",
      "Time taken for 1 epoch: 48.85190510749817 secs\n",
      "\n",
      "Epoch 14 Batch 0 Loss 0.8699 Accuracy 0.3106\n",
      "Epoch 14 Batch 50 Loss 0.8329 Accuracy 0.2906\n",
      "Epoch 14 Batch 100 Loss 0.8366 Accuracy 0.2911\n",
      "Epoch 14 Batch 150 Loss 0.8450 Accuracy 0.2915\n",
      "Epoch 14 Batch 200 Loss 0.8433 Accuracy 0.2897\n",
      "Epoch 14 Batch 250 Loss 0.8441 Accuracy 0.2885\n",
      "Epoch 14 Batch 300 Loss 0.8461 Accuracy 0.2881\n",
      "Epoch 14 Batch 350 Loss 0.8499 Accuracy 0.2881\n",
      "Epoch 14 Loss 0.8500 Accuracy 0.2881\n",
      "Time taken for 1 epoch: 48.867992877960205 secs\n",
      "\n",
      "Epoch 15 Batch 0 Loss 0.7595 Accuracy 0.2917\n",
      "Epoch 15 Batch 50 Loss 0.7707 Accuracy 0.2994\n",
      "Epoch 15 Batch 100 Loss 0.7692 Accuracy 0.2988\n",
      "Epoch 15 Batch 150 Loss 0.7771 Accuracy 0.2986\n",
      "Epoch 15 Batch 200 Loss 0.7786 Accuracy 0.2980\n",
      "Epoch 15 Batch 250 Loss 0.7828 Accuracy 0.2975\n",
      "Epoch 15 Batch 300 Loss 0.7890 Accuracy 0.2970\n",
      "Epoch 15 Batch 350 Loss 0.7932 Accuracy 0.2966\n",
      "Saving checkpoint for epoch 15 at ./checkpoints/train\\ckpt-3\n",
      "Epoch 15 Loss 0.7935 Accuracy 0.2967\n",
      "Time taken for 1 epoch: 49.25742149353027 secs\n",
      "\n",
      "Epoch 16 Batch 0 Loss 0.6586 Accuracy 0.3062\n",
      "Epoch 16 Batch 50 Loss 0.7218 Accuracy 0.3071\n",
      "Epoch 16 Batch 100 Loss 0.7245 Accuracy 0.3070\n",
      "Epoch 16 Batch 150 Loss 0.7271 Accuracy 0.3054\n",
      "Epoch 16 Batch 200 Loss 0.7303 Accuracy 0.3057\n",
      "Epoch 16 Batch 250 Loss 0.7336 Accuracy 0.3049\n",
      "Epoch 16 Batch 300 Loss 0.7361 Accuracy 0.3041\n",
      "Epoch 16 Batch 350 Loss 0.7413 Accuracy 0.3036\n",
      "Epoch 16 Loss 0.7411 Accuracy 0.3035\n",
      "Time taken for 1 epoch: 49.04734420776367 secs\n",
      "\n",
      "Epoch 17 Batch 0 Loss 0.6827 Accuracy 0.3209\n",
      "Epoch 17 Batch 50 Loss 0.6713 Accuracy 0.3138\n",
      "Epoch 17 Batch 100 Loss 0.6759 Accuracy 0.3125\n",
      "Epoch 17 Batch 150 Loss 0.6779 Accuracy 0.3115\n",
      "Epoch 17 Batch 200 Loss 0.6842 Accuracy 0.3118\n",
      "Epoch 17 Batch 250 Loss 0.6896 Accuracy 0.3114\n",
      "Epoch 17 Batch 300 Loss 0.6925 Accuracy 0.3108\n",
      "Epoch 17 Batch 350 Loss 0.6978 Accuracy 0.3098\n",
      "Epoch 17 Loss 0.6986 Accuracy 0.3099\n",
      "Time taken for 1 epoch: 49.10970973968506 secs\n",
      "\n",
      "Epoch 18 Batch 0 Loss 0.6356 Accuracy 0.3009\n",
      "Epoch 18 Batch 50 Loss 0.6253 Accuracy 0.3185\n",
      "Epoch 18 Batch 100 Loss 0.6360 Accuracy 0.3178\n",
      "Epoch 18 Batch 150 Loss 0.6408 Accuracy 0.3184\n",
      "Epoch 18 Batch 200 Loss 0.6444 Accuracy 0.3180\n",
      "Epoch 18 Batch 250 Loss 0.6483 Accuracy 0.3170\n",
      "Epoch 18 Batch 300 Loss 0.6529 Accuracy 0.3160\n"
     ]
    },
    {
     "name": "stdout",
     "output_type": "stream",
     "text": [
      "Epoch 18 Batch 350 Loss 0.6586 Accuracy 0.3153\n",
      "Epoch 18 Loss 0.6594 Accuracy 0.3153\n",
      "Time taken for 1 epoch: 49.1767361164093 secs\n",
      "\n",
      "Epoch 19 Batch 0 Loss 0.5567 Accuracy 0.3349\n",
      "Epoch 19 Batch 50 Loss 0.6025 Accuracy 0.3280\n",
      "Epoch 19 Batch 100 Loss 0.6035 Accuracy 0.3255\n",
      "Epoch 19 Batch 150 Loss 0.6051 Accuracy 0.3231\n",
      "Epoch 19 Batch 200 Loss 0.6106 Accuracy 0.3231\n",
      "Epoch 19 Batch 250 Loss 0.6155 Accuracy 0.3223\n",
      "Epoch 19 Batch 300 Loss 0.6210 Accuracy 0.3214\n",
      "Epoch 19 Batch 350 Loss 0.6242 Accuracy 0.3204\n",
      "Epoch 19 Loss 0.6247 Accuracy 0.3204\n",
      "Time taken for 1 epoch: 49.3395049571991 secs\n",
      "\n",
      "Epoch 20 Batch 0 Loss 0.5803 Accuracy 0.3401\n",
      "Epoch 20 Batch 50 Loss 0.5713 Accuracy 0.3314\n",
      "Epoch 20 Batch 100 Loss 0.5687 Accuracy 0.3285\n",
      "Epoch 20 Batch 150 Loss 0.5728 Accuracy 0.3281\n",
      "Epoch 20 Batch 200 Loss 0.5802 Accuracy 0.3274\n",
      "Epoch 20 Batch 250 Loss 0.5834 Accuracy 0.3266\n",
      "Epoch 20 Batch 300 Loss 0.5883 Accuracy 0.3260\n",
      "Epoch 20 Batch 350 Loss 0.5922 Accuracy 0.3250\n",
      "Saving checkpoint for epoch 20 at ./checkpoints/train\\ckpt-4\n",
      "Epoch 20 Loss 0.5922 Accuracy 0.3250\n",
      "Time taken for 1 epoch: 49.26918053627014 secs\n",
      "\n"
     ]
    }
   ],
   "source": [
    "for epoch in range(EPOCHS):\n",
    "    start = time.time()\n",
    "  \n",
    "    train_loss.reset_states()\n",
    "    train_accuracy.reset_states()\n",
    "  \n",
    "    # inp -> portuguese, tar -> english\n",
    "    for (batch, (inp, tar)) in enumerate(train_dataset):\n",
    "        train_step(inp, tar)\n",
    "    \n",
    "        if batch % 50 == 0:\n",
    "              print ('Epoch {} Batch {} Loss {:.4f} Accuracy {:.4f}'.format(\n",
    "                      epoch + 1, batch, train_loss.result(), train_accuracy.result()))\n",
    "      \n",
    "    if (epoch + 1) % 5 == 0:\n",
    "        ckpt_save_path = ckpt_manager.save()\n",
    "        print ('Saving checkpoint for epoch {} at {}'.format(epoch+1,ckpt_save_path))\n",
    "    \n",
    "    print ('Epoch {} Loss {:.4f} Accuracy {:.4f}'.format(epoch + 1, \n",
    "                                                    train_loss.result(), \n",
    "                                                    train_accuracy.result()))\n",
    "\n",
    "    print ('Time taken for 1 epoch: {} secs\\n'.format(time.time() - start))"
   ]
  },
  {
   "cell_type": "markdown",
   "metadata": {},
   "source": [
    "## Evaluate\n",
    "\n",
    "과정은 다음과 같습니다.\n",
    "\n",
    "1. tokenizer_pt 로 토큰화 / 인코딩 후 start / end 토큰 추가 : 인코더 Input\n",
    "2. 디코더에 넣을 start 토큰을 tokenizer_en 에서\n",
    "3. Padding mask 와 look ahead mask 계산\n",
    "4. 디코더는 `인코더 Output` 과 `디코더 Output` (self-attention) 을 이용해 예측값을 리턴\n",
    "5. argmax 를 이용해서 값을 확정합니다.\n",
    "6. 예측값들을 전부 concatenate 한뒤 디코더로 다시 넣습니다.\n",
    "\n",
    "이 과정을 통해 디코더는 전 값을 이용해 다음값을 예측합니다."
   ]
  },
  {
   "cell_type": "code",
   "execution_count": 52,
   "metadata": {
    "ExecuteTime": {
     "end_time": "2020-03-06T04:52:29.728209Z",
     "start_time": "2020-03-06T04:52:29.720209Z"
    }
   },
   "outputs": [],
   "source": [
    "def evaluate(inp_sentence):\n",
    "    start_token = [tokenizer_pt.vocab_size]\n",
    "    end_token = [tokenizer_pt.vocab_size + 1]\n",
    "  \n",
    "    # 번역할 Input 값(포르투갈어) 에 start token + encoding\n",
    "    inp_sentence = start_token + tokenizer_pt.encode(inp_sentence) + end_token\n",
    "    \n",
    "    # TODO : expand dim 은 왜 필요하지??\n",
    "    encoder_input = tf.expand_dims(inp_sentence, 0)\n",
    "  \n",
    "    # 디코더 Input 값에 start 값\n",
    "    decoder_input = [tokenizer_en.vocab_size]\n",
    "    output = tf.expand_dims(decoder_input, 0)\n",
    "    \n",
    "    # padding 끝까지 prediction 함\n",
    "    for i in range(MAX_LENGTH):\n",
    "        \n",
    "        # 각 step 마다 mask 필요\n",
    "        enc_padding_mask, combined_mask, dec_padding_mask = create_masks(encoder_input, output)\n",
    "  \n",
    "        # predictions.shape == (batch_size, seq_len, vocab_size)\n",
    "        \n",
    "        predictions, attention_weights = transformer(encoder_input, \n",
    "                                                     output,\n",
    "                                                     False,\n",
    "                                                     enc_padding_mask,\n",
    "                                                     combined_mask,\n",
    "                                                     dec_padding_mask)\n",
    "    \n",
    "        # predictions 의 마지막 단어가 이번에 예측한 값\n",
    "        predictions = predictions[: ,-1:, :]  # (batch_size, 1, vocab_size)\n",
    "        predicted_id = tf.cast(tf.argmax(predictions, axis=-1), tf.int32)\n",
    "    \n",
    "        # predicted id 가 end 토큰이면 예측을 끝냄\n",
    "        if predicted_id == tokenizer_en.vocab_size+1:\n",
    "            return tf.squeeze(output, axis=0), attention_weights\n",
    "    \n",
    "        # 이번에 예측한 토큰을 output 에 합침. (Input 으로 사용될 예정)\n",
    "        output = tf.concat([output, predicted_id], axis=-1)\n",
    "    \n",
    "    return tf.squeeze(output, axis=0), attention_weights"
   ]
  },
  {
   "cell_type": "code",
   "execution_count": 59,
   "metadata": {
    "ExecuteTime": {
     "end_time": "2020-03-06T05:11:02.230780Z",
     "start_time": "2020-03-06T05:11:02.221780Z"
    }
   },
   "outputs": [],
   "source": [
    "# 결과값 ploting 하는 함수\n",
    "\n",
    "def plot_attention_weights(attention, sentence, result, layer):\n",
    "    fig = plt.figure(figsize=(16, 8))\n",
    "  \n",
    "    sentence = tokenizer_pt.encode(sentence)\n",
    "  \n",
    "    attention = tf.squeeze(attention[layer], axis=0)\n",
    "  \n",
    "    for head in range(attention.shape[0]):\n",
    "        ax = fig.add_subplot(2, 4, head+1)\n",
    "    \n",
    "        # plot the attention weights\n",
    "        ax.matshow(attention[head][:-1, :], cmap='viridis')\n",
    "\n",
    "        fontdict = {'fontsize': 10}\n",
    "    \n",
    "        ax.set_xticks(range(len(sentence)+2))\n",
    "        ax.set_yticks(range(len(result)))\n",
    "    \n",
    "        ax.set_ylim(len(result)-1.5, -0.5)\n",
    "        \n",
    "        ax.set_xticklabels(\n",
    "            ['<start>']+[tokenizer_pt.decode([i]) for i in sentence]+['<end>'], \n",
    "            fontdict=fontdict, rotation=90)\n",
    "    \n",
    "        ax.set_yticklabels([tokenizer_en.decode([i]) for i in result \n",
    "                            if i < tokenizer_en.vocab_size], \n",
    "                           fontdict=fontdict)\n",
    "    \n",
    "        ax.set_xlabel('Head {}'.format(head+1))\n",
    "  \n",
    "    plt.tight_layout()\n",
    "    plt.show()"
   ]
  },
  {
   "cell_type": "code",
   "execution_count": 60,
   "metadata": {
    "ExecuteTime": {
     "end_time": "2020-03-06T05:12:37.188849Z",
     "start_time": "2020-03-06T05:12:37.181803Z"
    }
   },
   "outputs": [],
   "source": [
    "# 예측값 print 함수\n",
    "def translate(sentence, plot=''):\n",
    "    result, attention_weights = evaluate(sentence)\n",
    "  \n",
    "    predicted_sentence = tokenizer_en.decode([i for i in result \n",
    "                                            if i < tokenizer_en.vocab_size])  \n",
    "\n",
    "    print('Input: {}'.format(sentence))\n",
    "    print('Predicted translation: {}'.format(predicted_sentence))\n",
    "  \n",
    "    if plot:\n",
    "        plot_attention_weights(attention_weights, sentence, result, plot)"
   ]
  },
  {
   "cell_type": "code",
   "execution_count": 61,
   "metadata": {
    "ExecuteTime": {
     "end_time": "2020-03-06T05:12:40.185230Z",
     "start_time": "2020-03-06T05:12:39.239230Z"
    }
   },
   "outputs": [
    {
     "name": "stdout",
     "output_type": "stream",
     "text": [
      "Input: este é um problema que temos que resolver.\n",
      "Predicted translation: this is a problem that we have to deal with .\n",
      "Real translation: this is a problem we have to solve .\n"
     ]
    }
   ],
   "source": [
    "translate(\"este é um problema que temos que resolver.\")\n",
    "print (\"Real translation: this is a problem we have to solve .\")"
   ]
  },
  {
   "cell_type": "code",
   "execution_count": 62,
   "metadata": {
    "ExecuteTime": {
     "end_time": "2020-03-06T05:12:42.688458Z",
     "start_time": "2020-03-06T05:12:41.995289Z"
    }
   },
   "outputs": [
    {
     "name": "stdout",
     "output_type": "stream",
     "text": [
      "Input: os meus vizinhos ouviram sobre esta ideia.\n",
      "Predicted translation: my neighbors heard about this idea .\n",
      "Real translation: and my neighboring homes heard about this idea .\n"
     ]
    }
   ],
   "source": [
    "translate(\"os meus vizinhos ouviram sobre esta ideia.\")\n",
    "print (\"Real translation: and my neighboring homes heard about this idea .\")"
   ]
  },
  {
   "cell_type": "code",
   "execution_count": 63,
   "metadata": {
    "ExecuteTime": {
     "end_time": "2020-03-06T05:12:44.473973Z",
     "start_time": "2020-03-06T05:12:42.689405Z"
    }
   },
   "outputs": [
    {
     "name": "stdout",
     "output_type": "stream",
     "text": [
      "Input: vou então muito rapidamente partilhar convosco algumas histórias de algumas coisas mágicas que aconteceram.\n",
      "Predicted translation: so i 'm going to really quickly share with you some stories of some magic things that happened to happen .\n",
      "Real translation: so i 'll just share with you some stories very quickly of some magical things that have happened .\n"
     ]
    }
   ],
   "source": [
    "translate(\"vou então muito rapidamente partilhar convosco algumas histórias de algumas coisas mágicas que aconteceram.\")\n",
    "print (\"Real translation: so i 'll just share with you some stories very quickly of some magical things that have happened .\")"
   ]
  },
  {
   "cell_type": "code",
   "execution_count": 64,
   "metadata": {
    "ExecuteTime": {
     "end_time": "2020-03-06T05:12:49.429977Z",
     "start_time": "2020-03-06T05:12:48.125519Z"
    }
   },
   "outputs": [
    {
     "name": "stdout",
     "output_type": "stream",
     "text": [
      "Input: este é o primeiro livro que eu fiz.\n",
      "Predicted translation: this is the first book i did .\n"
     ]
    },
    {
     "data": {
      "image/png": "[encoded data removed]",
      "text/plain": [
       "<Figure size 1152x576 with 8 Axes>"
      ]
     },
     "metadata": {
      "needs_background": "light"
     },
     "output_type": "display_data"
    },
    {
     "name": "stdout",
     "output_type": "stream",
     "text": [
      "Real translation: this is the first book i've ever done.\n"
     ]
    }
   ],
   "source": [
    "translate(\"este é o primeiro livro que eu fiz.\", plot='decoder_layer4_block2')\n",
    "print (\"Real translation: this is the first book i've ever done.\")"
   ]
  },
  {
   "cell_type": "markdown",
   "metadata": {},
   "source": [
    "# 끝!"
   ]
  },
  {
   "cell_type": "code",
   "execution_count": null,
   "metadata": {},
   "outputs": [],
   "source": []
  }
 ],
 "metadata": {
  "kernelspec": {
   "display_name": "Python 3",
   "language": "python",
   "name": "python3"
  },
  "language_info": {
   "codemirror_mode": {
    "name": "ipython",
    "version": 3
   },
   "file_extension": ".py",
   "mimetype": "text/x-python",
   "name": "python",
   "nbconvert_exporter": "python",
   "pygments_lexer": "ipython3",
   "version": "3.7.6"
  },
  "toc": {
   "base_numbering": 1,
   "nav_menu": {},
   "number_sections": false,
   "sideBar": true,
   "skip_h1_title": true,
   "title_cell": "Table of Contents",
   "title_sidebar": "Contents",
   "toc_cell": false,
   "toc_position": {},
   "toc_section_display": true,
   "toc_window_display": true
  },
  "varInspector": {
   "cols": {
    "lenName": 16,
    "lenType": 16,
    "lenVar": 40
   },
   "kernels_config": {
    "python": {
     "delete_cmd_postfix": "",
     "delete_cmd_prefix": "del ",
     "library": "var_list.py",
     "varRefreshCmd": "print(var_dic_list())"
    },
    "r": {
     "delete_cmd_postfix": ") ",
     "delete_cmd_prefix": "rm(",
     "library": "var_list.r",
     "varRefreshCmd": "cat(var_dic_list()) "
    }
   },
   "types_to_exclude": [
    "module",
    "function",
    "builtin_function_or_method",
    "instance",
    "_Feature"
   ],
   "window_display": false
  }
 },
 "nbformat": 4,
 "nbformat_minor": 4
}
